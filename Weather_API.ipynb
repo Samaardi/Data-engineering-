{
  "cells": [
    {
      "cell_type": "code",
      "execution_count": null,
      "metadata": {
        "id": "gmrEYuZnUt0n"
      },
      "outputs": [],
      "source": [
        "import pandas as pd\n",
        "import requests\n",
        "from datetime import datetime\n",
        "import my_stuff #only for hana"
      ]
    },
    {
      "cell_type": "markdown",
      "metadata": {
        "id": "C3usajsvYNl6"
      },
      "source": [
        "# Making the API call and viewing the json"
      ]
    },
    {
      "cell_type": "code",
      "execution_count": null,
      "metadata": {
        "colab": {
          "base_uri": "https://localhost:8080/",
          "height": 332
        },
        "collapsed": true,
        "id": "MYjx5-0jU5xq",
        "jupyter": {
          "outputs_hidden": true
        },
        "outputId": "bd196687-fb99-42ee-a000-dd636202294b"
      },
      "outputs": [
        {
          "data": {
            "text/plain": [
              "{'cod': '200',\n",
              " 'message': 0,\n",
              " 'cnt': 40,\n",
              " 'list': [{'dt': 1715083200,\n",
              "   'main': {'temp': 11.96,\n",
              "    'feels_like': 11.17,\n",
              "    'temp_min': 11.96,\n",
              "    'temp_max': 12.59,\n",
              "    'pressure': 1009,\n",
              "    'sea_level': 1009,\n",
              "    'grnd_level': 1013,\n",
              "    'humidity': 75,\n",
              "    'temp_kf': -0.63},\n",
              "   'weather': [{'id': 804,\n",
              "     'main': 'Clouds',\n",
              "     'description': 'overcast clouds',\n",
              "     'icon': '04d'}],\n",
              "   'clouds': {'all': 100},\n",
              "   'wind': {'speed': 4.09, 'deg': 62, 'gust': 5.24},\n",
              "   'visibility': 10000,\n",
              "   'pop': 0,\n",
              "   'sys': {'pod': 'd'},\n",
              "   'dt_txt': '2024-05-07 12:00:00'},\n",
              "  {'dt': 1715094000,\n",
              "   'main': {'temp': 13.45,\n",
              "    'feels_like': 12.52,\n",
              "    'temp_min': 13.45,\n",
              "    'temp_max': 14.35,\n",
              "    'pressure': 1014,\n",
              "    'sea_level': 1014,\n",
              "    'grnd_level': 1014,\n",
              "    'humidity': 64,\n",
              "    'temp_kf': -0.9},\n",
              "   'weather': [{'id': 804,\n",
              "     'main': 'Clouds',\n",
              "     'description': 'overcast clouds',\n",
              "     'icon': '04d'}],\n",
              "   'clouds': {'all': 100},\n",
              "   'wind': {'speed': 2.77, 'deg': 98, 'gust': 5.11},\n",
              "   'visibility': 10000,\n",
              "   'pop': 0,\n",
              "   'sys': {'pod': 'd'},\n",
              "   'dt_txt': '2024-05-07 15:00:00'},\n",
              "  {'dt': 1715104800,\n",
              "   'main': {'temp': 13.41,\n",
              "    'feels_like': 12.45,\n",
              "    'temp_min': 13.41,\n",
              "    'temp_max': 13.41,\n",
              "    'pressure': 1020,\n",
              "    'sea_level': 1020,\n",
              "    'grnd_level': 1015,\n",
              "    'humidity': 63,\n",
              "    'temp_kf': 0},\n",
              "   'weather': [{'id': 804,\n",
              "     'main': 'Clouds',\n",
              "     'description': 'overcast clouds',\n",
              "     'icon': '04d'}],\n",
              "   'clouds': {'all': 100},\n",
              "   'wind': {'speed': 0.73, 'deg': 306, 'gust': 1.28},\n",
              "   'visibility': 10000,\n",
              "   'pop': 0,\n",
              "   'sys': {'pod': 'd'},\n",
              "   'dt_txt': '2024-05-07 18:00:00'},\n",
              "  {'dt': 1715115600,\n",
              "   'main': {'temp': 10.91,\n",
              "    'feels_like': 9.96,\n",
              "    'temp_min': 10.91,\n",
              "    'temp_max': 10.91,\n",
              "    'pressure': 1022,\n",
              "    'sea_level': 1022,\n",
              "    'grnd_level': 1016,\n",
              "    'humidity': 73,\n",
              "    'temp_kf': 0},\n",
              "   'weather': [{'id': 804,\n",
              "     'main': 'Clouds',\n",
              "     'description': 'overcast clouds',\n",
              "     'icon': '04n'}],\n",
              "   'clouds': {'all': 100},\n",
              "   'wind': {'speed': 3.32, 'deg': 46, 'gust': 6.32},\n",
              "   'visibility': 10000,\n",
              "   'pop': 0,\n",
              "   'sys': {'pod': 'n'},\n",
              "   'dt_txt': '2024-05-07 21:00:00'},\n",
              "  {'dt': 1715126400,\n",
              "   'main': {'temp': 9.81,\n",
              "    'feels_like': 8.4,\n",
              "    'temp_min': 9.81,\n",
              "    'temp_max': 9.81,\n",
              "    'pressure': 1023,\n",
              "    'sea_level': 1023,\n",
              "    'grnd_level': 1017,\n",
              "    'humidity': 68,\n",
              "    'temp_kf': 0},\n",
              "   'weather': [{'id': 804,\n",
              "     'main': 'Clouds',\n",
              "     'description': 'overcast clouds',\n",
              "     'icon': '04n'}],\n",
              "   'clouds': {'all': 100},\n",
              "   'wind': {'speed': 2.8, 'deg': 68, 'gust': 6.61},\n",
              "   'visibility': 10000,\n",
              "   'pop': 0,\n",
              "   'sys': {'pod': 'n'},\n",
              "   'dt_txt': '2024-05-08 00:00:00'},\n",
              "  {'dt': 1715137200,\n",
              "   'main': {'temp': 8.89,\n",
              "    'feels_like': 7.46,\n",
              "    'temp_min': 8.89,\n",
              "    'temp_max': 8.89,\n",
              "    'pressure': 1024,\n",
              "    'sea_level': 1024,\n",
              "    'grnd_level': 1018,\n",
              "    'humidity': 68,\n",
              "    'temp_kf': 0},\n",
              "   'weather': [{'id': 804,\n",
              "     'main': 'Clouds',\n",
              "     'description': 'overcast clouds',\n",
              "     'icon': '04n'}],\n",
              "   'clouds': {'all': 100},\n",
              "   'wind': {'speed': 2.57, 'deg': 83, 'gust': 6.54},\n",
              "   'visibility': 10000,\n",
              "   'pop': 0,\n",
              "   'sys': {'pod': 'n'},\n",
              "   'dt_txt': '2024-05-08 03:00:00'},\n",
              "  {'dt': 1715148000,\n",
              "   'main': {'temp': 10.63,\n",
              "    'feels_like': 9.39,\n",
              "    'temp_min': 10.63,\n",
              "    'temp_max': 10.63,\n",
              "    'pressure': 1025,\n",
              "    'sea_level': 1025,\n",
              "    'grnd_level': 1019,\n",
              "    'humidity': 63,\n",
              "    'temp_kf': 0},\n",
              "   'weather': [{'id': 804,\n",
              "     'main': 'Clouds',\n",
              "     'description': 'overcast clouds',\n",
              "     'icon': '04d'}],\n",
              "   'clouds': {'all': 100},\n",
              "   'wind': {'speed': 2.9, 'deg': 93, 'gust': 5.1},\n",
              "   'visibility': 10000,\n",
              "   'pop': 0,\n",
              "   'sys': {'pod': 'd'},\n",
              "   'dt_txt': '2024-05-08 06:00:00'},\n",
              "  {'dt': 1715158800,\n",
              "   'main': {'temp': 14.72,\n",
              "    'feels_like': 13.42,\n",
              "    'temp_min': 14.72,\n",
              "    'temp_max': 14.72,\n",
              "    'pressure': 1025,\n",
              "    'sea_level': 1025,\n",
              "    'grnd_level': 1020,\n",
              "    'humidity': 45,\n",
              "    'temp_kf': 0},\n",
              "   'weather': [{'id': 804,\n",
              "     'main': 'Clouds',\n",
              "     'description': 'overcast clouds',\n",
              "     'icon': '04d'}],\n",
              "   'clouds': {'all': 100},\n",
              "   'wind': {'speed': 2.89, 'deg': 71, 'gust': 3.83},\n",
              "   'visibility': 10000,\n",
              "   'pop': 0,\n",
              "   'sys': {'pod': 'd'},\n",
              "   'dt_txt': '2024-05-08 09:00:00'},\n",
              "  {'dt': 1715169600,\n",
              "   'main': {'temp': 16.98,\n",
              "    'feels_like': 15.75,\n",
              "    'temp_min': 16.98,\n",
              "    'temp_max': 16.98,\n",
              "    'pressure': 1025,\n",
              "    'sea_level': 1025,\n",
              "    'grnd_level': 1020,\n",
              "    'humidity': 39,\n",
              "    'temp_kf': 0},\n",
              "   'weather': [{'id': 804,\n",
              "     'main': 'Clouds',\n",
              "     'description': 'overcast clouds',\n",
              "     'icon': '04d'}],\n",
              "   'clouds': {'all': 100},\n",
              "   'wind': {'speed': 3.41, 'deg': 64, 'gust': 3.34},\n",
              "   'visibility': 10000,\n",
              "   'pop': 0,\n",
              "   'sys': {'pod': 'd'},\n",
              "   'dt_txt': '2024-05-08 12:00:00'},\n",
              "  {'dt': 1715180400,\n",
              "   'main': {'temp': 17.93,\n",
              "    'feels_like': 16.74,\n",
              "    'temp_min': 17.93,\n",
              "    'temp_max': 17.93,\n",
              "    'pressure': 1025,\n",
              "    'sea_level': 1025,\n",
              "    'grnd_level': 1019,\n",
              "    'humidity': 37,\n",
              "    'temp_kf': 0},\n",
              "   'weather': [{'id': 803,\n",
              "     'main': 'Clouds',\n",
              "     'description': 'broken clouds',\n",
              "     'icon': '04d'}],\n",
              "   'clouds': {'all': 73},\n",
              "   'wind': {'speed': 2.71, 'deg': 64, 'gust': 2.49},\n",
              "   'visibility': 10000,\n",
              "   'pop': 0,\n",
              "   'sys': {'pod': 'd'},\n",
              "   'dt_txt': '2024-05-08 15:00:00'},\n",
              "  {'dt': 1715191200,\n",
              "   'main': {'temp': 15.74,\n",
              "    'feels_like': 14.62,\n",
              "    'temp_min': 15.74,\n",
              "    'temp_max': 15.74,\n",
              "    'pressure': 1025,\n",
              "    'sea_level': 1025,\n",
              "    'grnd_level': 1020,\n",
              "    'humidity': 48,\n",
              "    'temp_kf': 0},\n",
              "   'weather': [{'id': 802,\n",
              "     'main': 'Clouds',\n",
              "     'description': 'scattered clouds',\n",
              "     'icon': '03d'}],\n",
              "   'clouds': {'all': 39},\n",
              "   'wind': {'speed': 2.56, 'deg': 71, 'gust': 4.29},\n",
              "   'visibility': 10000,\n",
              "   'pop': 0,\n",
              "   'sys': {'pod': 'd'},\n",
              "   'dt_txt': '2024-05-08 18:00:00'},\n",
              "  {'dt': 1715202000,\n",
              "   'main': {'temp': 12.65,\n",
              "    'feels_like': 11.46,\n",
              "    'temp_min': 12.65,\n",
              "    'temp_max': 12.65,\n",
              "    'pressure': 1027,\n",
              "    'sea_level': 1027,\n",
              "    'grnd_level': 1021,\n",
              "    'humidity': 57,\n",
              "    'temp_kf': 0},\n",
              "   'weather': [{'id': 800,\n",
              "     'main': 'Clear',\n",
              "     'description': 'clear sky',\n",
              "     'icon': '01n'}],\n",
              "   'clouds': {'all': 0},\n",
              "   'wind': {'speed': 1.96, 'deg': 68, 'gust': 2.88},\n",
              "   'visibility': 10000,\n",
              "   'pop': 0,\n",
              "   'sys': {'pod': 'n'},\n",
              "   'dt_txt': '2024-05-08 21:00:00'},\n",
              "  {'dt': 1715212800,\n",
              "   'main': {'temp': 10.72,\n",
              "    'feels_like': 9.41,\n",
              "    'temp_min': 10.72,\n",
              "    'temp_max': 10.72,\n",
              "    'pressure': 1027,\n",
              "    'sea_level': 1027,\n",
              "    'grnd_level': 1021,\n",
              "    'humidity': 60,\n",
              "    'temp_kf': 0},\n",
              "   'weather': [{'id': 800,\n",
              "     'main': 'Clear',\n",
              "     'description': 'clear sky',\n",
              "     'icon': '01n'}],\n",
              "   'clouds': {'all': 6},\n",
              "   'wind': {'speed': 1.64, 'deg': 107, 'gust': 1.99},\n",
              "   'visibility': 10000,\n",
              "   'pop': 0,\n",
              "   'sys': {'pod': 'n'},\n",
              "   'dt_txt': '2024-05-09 00:00:00'},\n",
              "  {'dt': 1715223600,\n",
              "   'main': {'temp': 9.53,\n",
              "    'feels_like': 9.53,\n",
              "    'temp_min': 9.53,\n",
              "    'temp_max': 9.53,\n",
              "    'pressure': 1027,\n",
              "    'sea_level': 1027,\n",
              "    'grnd_level': 1021,\n",
              "    'humidity': 65,\n",
              "    'temp_kf': 0},\n",
              "   'weather': [{'id': 801,\n",
              "     'main': 'Clouds',\n",
              "     'description': 'few clouds',\n",
              "     'icon': '02n'}],\n",
              "   'clouds': {'all': 16},\n",
              "   'wind': {'speed': 0.68, 'deg': 144, 'gust': 0.65},\n",
              "   'visibility': 10000,\n",
              "   'pop': 0,\n",
              "   'sys': {'pod': 'n'},\n",
              "   'dt_txt': '2024-05-09 03:00:00'},\n",
              "  {'dt': 1715234400,\n",
              "   'main': {'temp': 12.86,\n",
              "    'feels_like': 11.64,\n",
              "    'temp_min': 12.86,\n",
              "    'temp_max': 12.86,\n",
              "    'pressure': 1027,\n",
              "    'sea_level': 1027,\n",
              "    'grnd_level': 1022,\n",
              "    'humidity': 55,\n",
              "    'temp_kf': 0},\n",
              "   'weather': [{'id': 801,\n",
              "     'main': 'Clouds',\n",
              "     'description': 'few clouds',\n",
              "     'icon': '02d'}],\n",
              "   'clouds': {'all': 13},\n",
              "   'wind': {'speed': 0.93, 'deg': 283, 'gust': 1.26},\n",
              "   'visibility': 10000,\n",
              "   'pop': 0,\n",
              "   'sys': {'pod': 'd'},\n",
              "   'dt_txt': '2024-05-09 06:00:00'},\n",
              "  {'dt': 1715245200,\n",
              "   'main': {'temp': 18.03,\n",
              "    'feels_like': 16.96,\n",
              "    'temp_min': 18.03,\n",
              "    'temp_max': 18.03,\n",
              "    'pressure': 1027,\n",
              "    'sea_level': 1027,\n",
              "    'grnd_level': 1021,\n",
              "    'humidity': 41,\n",
              "    'temp_kf': 0},\n",
              "   'weather': [{'id': 802,\n",
              "     'main': 'Clouds',\n",
              "     'description': 'scattered clouds',\n",
              "     'icon': '03d'}],\n",
              "   'clouds': {'all': 43},\n",
              "   'wind': {'speed': 1.26, 'deg': 261, 'gust': 1.6},\n",
              "   'visibility': 10000,\n",
              "   'pop': 0,\n",
              "   'sys': {'pod': 'd'},\n",
              "   'dt_txt': '2024-05-09 09:00:00'},\n",
              "  {'dt': 1715256000,\n",
              "   'main': {'temp': 20.53,\n",
              "    'feels_like': 19.55,\n",
              "    'temp_min': 20.53,\n",
              "    'temp_max': 20.53,\n",
              "    'pressure': 1025,\n",
              "    'sea_level': 1025,\n",
              "    'grnd_level': 1019,\n",
              "    'humidity': 35,\n",
              "    'temp_kf': 0},\n",
              "   'weather': [{'id': 803,\n",
              "     'main': 'Clouds',\n",
              "     'description': 'broken clouds',\n",
              "     'icon': '04d'}],\n",
              "   'clouds': {'all': 62},\n",
              "   'wind': {'speed': 2.09, 'deg': 275, 'gust': 2.45},\n",
              "   'visibility': 10000,\n",
              "   'pop': 0,\n",
              "   'sys': {'pod': 'd'},\n",
              "   'dt_txt': '2024-05-09 12:00:00'},\n",
              "  {'dt': 1715266800,\n",
              "   'main': {'temp': 20.55,\n",
              "    'feels_like': 19.63,\n",
              "    'temp_min': 20.55,\n",
              "    'temp_max': 20.55,\n",
              "    'pressure': 1023,\n",
              "    'sea_level': 1023,\n",
              "    'grnd_level': 1018,\n",
              "    'humidity': 37,\n",
              "    'temp_kf': 0},\n",
              "   'weather': [{'id': 804,\n",
              "     'main': 'Clouds',\n",
              "     'description': 'overcast clouds',\n",
              "     'icon': '04d'}],\n",
              "   'clouds': {'all': 100},\n",
              "   'wind': {'speed': 3.52, 'deg': 302, 'gust': 3.22},\n",
              "   'visibility': 10000,\n",
              "   'pop': 0,\n",
              "   'sys': {'pod': 'd'},\n",
              "   'dt_txt': '2024-05-09 15:00:00'},\n",
              "  {'dt': 1715277600,\n",
              "   'main': {'temp': 17.39,\n",
              "    'feels_like': 16.59,\n",
              "    'temp_min': 17.39,\n",
              "    'temp_max': 17.39,\n",
              "    'pressure': 1023,\n",
              "    'sea_level': 1023,\n",
              "    'grnd_level': 1018,\n",
              "    'humidity': 54,\n",
              "    'temp_kf': 0},\n",
              "   'weather': [{'id': 804,\n",
              "     'main': 'Clouds',\n",
              "     'description': 'overcast clouds',\n",
              "     'icon': '04d'}],\n",
              "   'clouds': {'all': 92},\n",
              "   'wind': {'speed': 3.1, 'deg': 331, 'gust': 4.88},\n",
              "   'visibility': 10000,\n",
              "   'pop': 0,\n",
              "   'sys': {'pod': 'd'},\n",
              "   'dt_txt': '2024-05-09 18:00:00'},\n",
              "  {'dt': 1715288400,\n",
              "   'main': {'temp': 14.87,\n",
              "    'feels_like': 14.16,\n",
              "    'temp_min': 14.87,\n",
              "    'temp_max': 14.87,\n",
              "    'pressure': 1024,\n",
              "    'sea_level': 1024,\n",
              "    'grnd_level': 1018,\n",
              "    'humidity': 67,\n",
              "    'temp_kf': 0},\n",
              "   'weather': [{'id': 804,\n",
              "     'main': 'Clouds',\n",
              "     'description': 'overcast clouds',\n",
              "     'icon': '04n'}],\n",
              "   'clouds': {'all': 100},\n",
              "   'wind': {'speed': 2.02, 'deg': 344, 'gust': 3.98},\n",
              "   'visibility': 10000,\n",
              "   'pop': 0,\n",
              "   'sys': {'pod': 'n'},\n",
              "   'dt_txt': '2024-05-09 21:00:00'},\n",
              "  {'dt': 1715299200,\n",
              "   'main': {'temp': 14.51,\n",
              "    'feels_like': 13.82,\n",
              "    'temp_min': 14.51,\n",
              "    'temp_max': 14.51,\n",
              "    'pressure': 1023,\n",
              "    'sea_level': 1023,\n",
              "    'grnd_level': 1017,\n",
              "    'humidity': 69,\n",
              "    'temp_kf': 0},\n",
              "   'weather': [{'id': 804,\n",
              "     'main': 'Clouds',\n",
              "     'description': 'overcast clouds',\n",
              "     'icon': '04n'}],\n",
              "   'clouds': {'all': 100},\n",
              "   'wind': {'speed': 0.47, 'deg': 335, 'gust': 0.72},\n",
              "   'visibility': 10000,\n",
              "   'pop': 0,\n",
              "   'sys': {'pod': 'n'},\n",
              "   'dt_txt': '2024-05-10 00:00:00'},\n",
              "  {'dt': 1715310000,\n",
              "   'main': {'temp': 12.86,\n",
              "    'feels_like': 12.24,\n",
              "    'temp_min': 12.86,\n",
              "    'temp_max': 12.86,\n",
              "    'pressure': 1023,\n",
              "    'sea_level': 1023,\n",
              "    'grnd_level': 1017,\n",
              "    'humidity': 78,\n",
              "    'temp_kf': 0},\n",
              "   'weather': [{'id': 804,\n",
              "     'main': 'Clouds',\n",
              "     'description': 'overcast clouds',\n",
              "     'icon': '04n'}],\n",
              "   'clouds': {'all': 100},\n",
              "   'wind': {'speed': 1.57, 'deg': 316, 'gust': 2.53},\n",
              "   'visibility': 10000,\n",
              "   'pop': 0,\n",
              "   'sys': {'pod': 'n'},\n",
              "   'dt_txt': '2024-05-10 03:00:00'},\n",
              "  {'dt': 1715320800,\n",
              "   'main': {'temp': 13.17,\n",
              "    'feels_like': 12.53,\n",
              "    'temp_min': 13.17,\n",
              "    'temp_max': 13.17,\n",
              "    'pressure': 1023,\n",
              "    'sea_level': 1023,\n",
              "    'grnd_level': 1018,\n",
              "    'humidity': 76,\n",
              "    'temp_kf': 0},\n",
              "   'weather': [{'id': 804,\n",
              "     'main': 'Clouds',\n",
              "     'description': 'overcast clouds',\n",
              "     'icon': '04d'}],\n",
              "   'clouds': {'all': 98},\n",
              "   'wind': {'speed': 2.7, 'deg': 304, 'gust': 4.54},\n",
              "   'visibility': 10000,\n",
              "   'pop': 0,\n",
              "   'sys': {'pod': 'd'},\n",
              "   'dt_txt': '2024-05-10 06:00:00'},\n",
              "  {'dt': 1715331600,\n",
              "   'main': {'temp': 15.59,\n",
              "    'feels_like': 14.82,\n",
              "    'temp_min': 15.59,\n",
              "    'temp_max': 15.59,\n",
              "    'pressure': 1023,\n",
              "    'sea_level': 1023,\n",
              "    'grnd_level': 1017,\n",
              "    'humidity': 62,\n",
              "    'temp_kf': 0},\n",
              "   'weather': [{'id': 804,\n",
              "     'main': 'Clouds',\n",
              "     'description': 'overcast clouds',\n",
              "     'icon': '04d'}],\n",
              "   'clouds': {'all': 100},\n",
              "   'wind': {'speed': 2.8, 'deg': 295, 'gust': 4.12},\n",
              "   'visibility': 10000,\n",
              "   'pop': 0,\n",
              "   'sys': {'pod': 'd'},\n",
              "   'dt_txt': '2024-05-10 09:00:00'},\n",
              "  {'dt': 1715342400,\n",
              "   'main': {'temp': 20.03,\n",
              "    'feels_like': 19.32,\n",
              "    'temp_min': 20.03,\n",
              "    'temp_max': 20.03,\n",
              "    'pressure': 1022,\n",
              "    'sea_level': 1022,\n",
              "    'grnd_level': 1017,\n",
              "    'humidity': 47,\n",
              "    'temp_kf': 0},\n",
              "   'weather': [{'id': 804,\n",
              "     'main': 'Clouds',\n",
              "     'description': 'overcast clouds',\n",
              "     'icon': '04d'}],\n",
              "   'clouds': {'all': 86},\n",
              "   'wind': {'speed': 3.46, 'deg': 288, 'gust': 4.82},\n",
              "   'visibility': 10000,\n",
              "   'pop': 0,\n",
              "   'sys': {'pod': 'd'},\n",
              "   'dt_txt': '2024-05-10 12:00:00'},\n",
              "  {'dt': 1715353200,\n",
              "   'main': {'temp': 18.82,\n",
              "    'feels_like': 18.14,\n",
              "    'temp_min': 18.82,\n",
              "    'temp_max': 18.82,\n",
              "    'pressure': 1021,\n",
              "    'sea_level': 1021,\n",
              "    'grnd_level': 1016,\n",
              "    'humidity': 53,\n",
              "    'temp_kf': 0},\n",
              "   'weather': [{'id': 804,\n",
              "     'main': 'Clouds',\n",
              "     'description': 'overcast clouds',\n",
              "     'icon': '04d'}],\n",
              "   'clouds': {'all': 95},\n",
              "   'wind': {'speed': 3.4, 'deg': 308, 'gust': 4.69},\n",
              "   'visibility': 10000,\n",
              "   'pop': 0,\n",
              "   'sys': {'pod': 'd'},\n",
              "   'dt_txt': '2024-05-10 15:00:00'},\n",
              "  {'dt': 1715364000,\n",
              "   'main': {'temp': 17.51,\n",
              "    'feels_like': 16.99,\n",
              "    'temp_min': 17.51,\n",
              "    'temp_max': 17.51,\n",
              "    'pressure': 1021,\n",
              "    'sea_level': 1021,\n",
              "    'grnd_level': 1016,\n",
              "    'humidity': 64,\n",
              "    'temp_kf': 0},\n",
              "   'weather': [{'id': 803,\n",
              "     'main': 'Clouds',\n",
              "     'description': 'broken clouds',\n",
              "     'icon': '04d'}],\n",
              "   'clouds': {'all': 83},\n",
              "   'wind': {'speed': 2.61, 'deg': 319, 'gust': 5.5},\n",
              "   'visibility': 10000,\n",
              "   'pop': 0,\n",
              "   'sys': {'pod': 'd'},\n",
              "   'dt_txt': '2024-05-10 18:00:00'},\n",
              "  {'dt': 1715374800,\n",
              "   'main': {'temp': 14.22,\n",
              "    'feels_like': 13.89,\n",
              "    'temp_min': 14.22,\n",
              "    'temp_max': 14.22,\n",
              "    'pressure': 1022,\n",
              "    'sea_level': 1022,\n",
              "    'grnd_level': 1016,\n",
              "    'humidity': 84,\n",
              "    'temp_kf': 0},\n",
              "   'weather': [{'id': 804,\n",
              "     'main': 'Clouds',\n",
              "     'description': 'overcast clouds',\n",
              "     'icon': '04n'}],\n",
              "   'clouds': {'all': 91},\n",
              "   'wind': {'speed': 2.17, 'deg': 8, 'gust': 4.82},\n",
              "   'visibility': 10000,\n",
              "   'pop': 0,\n",
              "   'sys': {'pod': 'n'},\n",
              "   'dt_txt': '2024-05-10 21:00:00'},\n",
              "  {'dt': 1715385600,\n",
              "   'main': {'temp': 13.29,\n",
              "    'feels_like': 12.95,\n",
              "    'temp_min': 13.29,\n",
              "    'temp_max': 13.29,\n",
              "    'pressure': 1021,\n",
              "    'sea_level': 1021,\n",
              "    'grnd_level': 1016,\n",
              "    'humidity': 87,\n",
              "    'temp_kf': 0},\n",
              "   'weather': [{'id': 804,\n",
              "     'main': 'Clouds',\n",
              "     'description': 'overcast clouds',\n",
              "     'icon': '04n'}],\n",
              "   'clouds': {'all': 95},\n",
              "   'wind': {'speed': 1.48, 'deg': 15, 'gust': 2.31},\n",
              "   'visibility': 10000,\n",
              "   'pop': 0,\n",
              "   'sys': {'pod': 'n'},\n",
              "   'dt_txt': '2024-05-11 00:00:00'},\n",
              "  {'dt': 1715396400,\n",
              "   'main': {'temp': 12.48,\n",
              "    'feels_like': 12.08,\n",
              "    'temp_min': 12.48,\n",
              "    'temp_max': 12.48,\n",
              "    'pressure': 1021,\n",
              "    'sea_level': 1021,\n",
              "    'grnd_level': 1016,\n",
              "    'humidity': 88,\n",
              "    'temp_kf': 0},\n",
              "   'weather': [{'id': 804,\n",
              "     'main': 'Clouds',\n",
              "     'description': 'overcast clouds',\n",
              "     'icon': '04n'}],\n",
              "   'clouds': {'all': 100},\n",
              "   'wind': {'speed': 1.78, 'deg': 345, 'gust': 3.29},\n",
              "   'visibility': 10000,\n",
              "   'pop': 0,\n",
              "   'sys': {'pod': 'n'},\n",
              "   'dt_txt': '2024-05-11 03:00:00'},\n",
              "  {'dt': 1715407200,\n",
              "   'main': {'temp': 13.79,\n",
              "    'feels_like': 13.26,\n",
              "    'temp_min': 13.79,\n",
              "    'temp_max': 13.79,\n",
              "    'pressure': 1021,\n",
              "    'sea_level': 1021,\n",
              "    'grnd_level': 1016,\n",
              "    'humidity': 78,\n",
              "    'temp_kf': 0},\n",
              "   'weather': [{'id': 804,\n",
              "     'main': 'Clouds',\n",
              "     'description': 'overcast clouds',\n",
              "     'icon': '04d'}],\n",
              "   'clouds': {'all': 100},\n",
              "   'wind': {'speed': 2.2, 'deg': 338, 'gust': 3.47},\n",
              "   'visibility': 10000,\n",
              "   'pop': 0,\n",
              "   'sys': {'pod': 'd'},\n",
              "   'dt_txt': '2024-05-11 06:00:00'},\n",
              "  {'dt': 1715418000,\n",
              "   'main': {'temp': 16.25,\n",
              "    'feels_like': 15.31,\n",
              "    'temp_min': 16.25,\n",
              "    'temp_max': 16.25,\n",
              "    'pressure': 1021,\n",
              "    'sea_level': 1021,\n",
              "    'grnd_level': 1016,\n",
              "    'humidity': 53,\n",
              "    'temp_kf': 0},\n",
              "   'weather': [{'id': 804,\n",
              "     'main': 'Clouds',\n",
              "     'description': 'overcast clouds',\n",
              "     'icon': '04d'}],\n",
              "   'clouds': {'all': 100},\n",
              "   'wind': {'speed': 2.21, 'deg': 324, 'gust': 3.17},\n",
              "   'visibility': 10000,\n",
              "   'pop': 0,\n",
              "   'sys': {'pod': 'd'},\n",
              "   'dt_txt': '2024-05-11 09:00:00'},\n",
              "  {'dt': 1715428800,\n",
              "   'main': {'temp': 20.5,\n",
              "    'feels_like': 19.7,\n",
              "    'temp_min': 20.5,\n",
              "    'temp_max': 20.5,\n",
              "    'pressure': 1020,\n",
              "    'sea_level': 1020,\n",
              "    'grnd_level': 1015,\n",
              "    'humidity': 42,\n",
              "    'temp_kf': 0},\n",
              "   'weather': [{'id': 804,\n",
              "     'main': 'Clouds',\n",
              "     'description': 'overcast clouds',\n",
              "     'icon': '04d'}],\n",
              "   'clouds': {'all': 92},\n",
              "   'wind': {'speed': 2.94, 'deg': 346, 'gust': 4.87},\n",
              "   'visibility': 10000,\n",
              "   'pop': 0,\n",
              "   'sys': {'pod': 'd'},\n",
              "   'dt_txt': '2024-05-11 12:00:00'},\n",
              "  {'dt': 1715439600,\n",
              "   'main': {'temp': 18.91,\n",
              "    'feels_like': 18.16,\n",
              "    'temp_min': 18.91,\n",
              "    'temp_max': 18.91,\n",
              "    'pressure': 1020,\n",
              "    'sea_level': 1020,\n",
              "    'grnd_level': 1014,\n",
              "    'humidity': 50,\n",
              "    'temp_kf': 0},\n",
              "   'weather': [{'id': 804,\n",
              "     'main': 'Clouds',\n",
              "     'description': 'overcast clouds',\n",
              "     'icon': '04d'}],\n",
              "   'clouds': {'all': 91},\n",
              "   'wind': {'speed': 3.63, 'deg': 13, 'gust': 4.15},\n",
              "   'visibility': 10000,\n",
              "   'pop': 0,\n",
              "   'sys': {'pod': 'd'},\n",
              "   'dt_txt': '2024-05-11 15:00:00'},\n",
              "  {'dt': 1715450400,\n",
              "   'main': {'temp': 16.99,\n",
              "    'feels_like': 16.39,\n",
              "    'temp_min': 16.99,\n",
              "    'temp_max': 16.99,\n",
              "    'pressure': 1020,\n",
              "    'sea_level': 1020,\n",
              "    'grnd_level': 1014,\n",
              "    'humidity': 63,\n",
              "    'temp_kf': 0},\n",
              "   'weather': [{'id': 803,\n",
              "     'main': 'Clouds',\n",
              "     'description': 'broken clouds',\n",
              "     'icon': '04d'}],\n",
              "   'clouds': {'all': 83},\n",
              "   'wind': {'speed': 3.27, 'deg': 32, 'gust': 4.35},\n",
              "   'visibility': 10000,\n",
              "   'pop': 0,\n",
              "   'sys': {'pod': 'd'},\n",
              "   'dt_txt': '2024-05-11 18:00:00'},\n",
              "  {'dt': 1715461200,\n",
              "   'main': {'temp': 13.74,\n",
              "    'feels_like': 13.08,\n",
              "    'temp_min': 13.74,\n",
              "    'temp_max': 13.74,\n",
              "    'pressure': 1021,\n",
              "    'sea_level': 1021,\n",
              "    'grnd_level': 1015,\n",
              "    'humidity': 73,\n",
              "    'temp_kf': 0},\n",
              "   'weather': [{'id': 804,\n",
              "     'main': 'Clouds',\n",
              "     'description': 'overcast clouds',\n",
              "     'icon': '04n'}],\n",
              "   'clouds': {'all': 92},\n",
              "   'wind': {'speed': 3.18, 'deg': 57, 'gust': 5.45},\n",
              "   'visibility': 10000,\n",
              "   'pop': 0,\n",
              "   'sys': {'pod': 'n'},\n",
              "   'dt_txt': '2024-05-11 21:00:00'},\n",
              "  {'dt': 1715472000,\n",
              "   'main': {'temp': 12.37,\n",
              "    'feels_like': 11.7,\n",
              "    'temp_min': 12.37,\n",
              "    'temp_max': 12.37,\n",
              "    'pressure': 1021,\n",
              "    'sea_level': 1021,\n",
              "    'grnd_level': 1015,\n",
              "    'humidity': 78,\n",
              "    'temp_kf': 0},\n",
              "   'weather': [{'id': 804,\n",
              "     'main': 'Clouds',\n",
              "     'description': 'overcast clouds',\n",
              "     'icon': '04n'}],\n",
              "   'clouds': {'all': 96},\n",
              "   'wind': {'speed': 2.89, 'deg': 69, 'gust': 5.6},\n",
              "   'visibility': 10000,\n",
              "   'pop': 0,\n",
              "   'sys': {'pod': 'n'},\n",
              "   'dt_txt': '2024-05-12 00:00:00'},\n",
              "  {'dt': 1715482800,\n",
              "   'main': {'temp': 10.81,\n",
              "    'feels_like': 10.22,\n",
              "    'temp_min': 10.81,\n",
              "    'temp_max': 10.81,\n",
              "    'pressure': 1021,\n",
              "    'sea_level': 1021,\n",
              "    'grnd_level': 1015,\n",
              "    'humidity': 87,\n",
              "    'temp_kf': 0},\n",
              "   'weather': [{'id': 804,\n",
              "     'main': 'Clouds',\n",
              "     'description': 'overcast clouds',\n",
              "     'icon': '04n'}],\n",
              "   'clouds': {'all': 85},\n",
              "   'wind': {'speed': 2.8, 'deg': 78, 'gust': 6.85},\n",
              "   'visibility': 10000,\n",
              "   'pop': 0,\n",
              "   'sys': {'pod': 'n'},\n",
              "   'dt_txt': '2024-05-12 03:00:00'},\n",
              "  {'dt': 1715493600,\n",
              "   'main': {'temp': 12.95,\n",
              "    'feels_like': 12.26,\n",
              "    'temp_min': 12.95,\n",
              "    'temp_max': 12.95,\n",
              "    'pressure': 1022,\n",
              "    'sea_level': 1022,\n",
              "    'grnd_level': 1016,\n",
              "    'humidity': 75,\n",
              "    'temp_kf': 0},\n",
              "   'weather': [{'id': 803,\n",
              "     'main': 'Clouds',\n",
              "     'description': 'broken clouds',\n",
              "     'icon': '04d'}],\n",
              "   'clouds': {'all': 65},\n",
              "   'wind': {'speed': 4.18, 'deg': 101, 'gust': 6.64},\n",
              "   'visibility': 10000,\n",
              "   'pop': 0,\n",
              "   'sys': {'pod': 'd'},\n",
              "   'dt_txt': '2024-05-12 06:00:00'},\n",
              "  {'dt': 1715504400,\n",
              "   'main': {'temp': 16.32,\n",
              "    'feels_like': 15.37,\n",
              "    'temp_min': 16.32,\n",
              "    'temp_max': 16.32,\n",
              "    'pressure': 1022,\n",
              "    'sea_level': 1022,\n",
              "    'grnd_level': 1017,\n",
              "    'humidity': 52,\n",
              "    'temp_kf': 0},\n",
              "   'weather': [{'id': 803,\n",
              "     'main': 'Clouds',\n",
              "     'description': 'broken clouds',\n",
              "     'icon': '04d'}],\n",
              "   'clouds': {'all': 71},\n",
              "   'wind': {'speed': 4.99, 'deg': 97, 'gust': 6.07},\n",
              "   'visibility': 10000,\n",
              "   'pop': 0,\n",
              "   'sys': {'pod': 'd'},\n",
              "   'dt_txt': '2024-05-12 09:00:00'}],\n",
              " 'city': {'id': 2950159,\n",
              "  'name': 'Berlin',\n",
              "  'coord': {'lat': 52.5244, 'lon': 13.4105},\n",
              "  'country': 'DE',\n",
              "  'population': 1000000,\n",
              "  'timezone': 7200,\n",
              "  'sunrise': 1715052185,\n",
              "  'sunset': 1715107361}}"
            ]
          },
          "execution_count": 11,
          "metadata": {},
          "output_type": "execute_result"
        }
      ],
      "source": [
        "city = 'Berlin'\n",
        "API_key = my_stuff.weather_API_key\n",
        "\n",
        "# check out the docs for more info on making an api call https://openweathermap.org/forecast5\n",
        "url = (f\"http://api.openweathermap.org/data/2.5/forecast?q={city}&appid={API_key}&units=metric\")\n",
        "\n",
        "response = requests.get(url)\n",
        "json = response.json()\n",
        "\n",
        "json"
      ]
    },
    {
      "cell_type": "code",
      "execution_count": null,
      "metadata": {
        "id": "9lkQPJjUVfKO"
      },
      "outputs": [],
      "source": [
        "from IPython.display import JSON"
      ]
    },
    {
      "cell_type": "code",
      "execution_count": null,
      "metadata": {
        "id": "BQm_amcMVfKP",
        "outputId": "ed92012c-1e1f-4a65-9b4e-5e54d7ad2f6a"
      },
      "outputs": [
        {
          "data": {
            "application/json": {
              "city": {
                "coord": {
                  "lat": 52.5244,
                  "lon": 13.4105
                },
                "country": "DE",
                "id": 2950159,
                "name": "Berlin",
                "population": 1000000,
                "sunrise": 1715052185,
                "sunset": 1715107361,
                "timezone": 7200
              },
              "cnt": 40,
              "cod": "200",
              "list": [
                {
                  "clouds": {
                    "all": 100
                  },
                  "dt": 1715083200,
                  "dt_txt": "2024-05-07 12:00:00",
                  "main": {
                    "feels_like": 11.17,
                    "grnd_level": 1013,
                    "humidity": 75,
                    "pressure": 1009,
                    "sea_level": 1009,
                    "temp": 11.96,
                    "temp_kf": -0.63,
                    "temp_max": 12.59,
                    "temp_min": 11.96
                  },
                  "pop": 0,
                  "sys": {
                    "pod": "d"
                  },
                  "visibility": 10000,
                  "weather": [
                    {
                      "description": "overcast clouds",
                      "icon": "04d",
                      "id": 804,
                      "main": "Clouds"
                    }
                  ],
                  "wind": {
                    "deg": 62,
                    "gust": 5.24,
                    "speed": 4.09
                  }
                },
                {
                  "clouds": {
                    "all": 100
                  },
                  "dt": 1715094000,
                  "dt_txt": "2024-05-07 15:00:00",
                  "main": {
                    "feels_like": 12.52,
                    "grnd_level": 1014,
                    "humidity": 64,
                    "pressure": 1014,
                    "sea_level": 1014,
                    "temp": 13.45,
                    "temp_kf": -0.9,
                    "temp_max": 14.35,
                    "temp_min": 13.45
                  },
                  "pop": 0,
                  "sys": {
                    "pod": "d"
                  },
                  "visibility": 10000,
                  "weather": [
                    {
                      "description": "overcast clouds",
                      "icon": "04d",
                      "id": 804,
                      "main": "Clouds"
                    }
                  ],
                  "wind": {
                    "deg": 98,
                    "gust": 5.11,
                    "speed": 2.77
                  }
                },
                {
                  "clouds": {
                    "all": 100
                  },
                  "dt": 1715104800,
                  "dt_txt": "2024-05-07 18:00:00",
                  "main": {
                    "feels_like": 12.45,
                    "grnd_level": 1015,
                    "humidity": 63,
                    "pressure": 1020,
                    "sea_level": 1020,
                    "temp": 13.41,
                    "temp_kf": 0,
                    "temp_max": 13.41,
                    "temp_min": 13.41
                  },
                  "pop": 0,
                  "sys": {
                    "pod": "d"
                  },
                  "visibility": 10000,
                  "weather": [
                    {
                      "description": "overcast clouds",
                      "icon": "04d",
                      "id": 804,
                      "main": "Clouds"
                    }
                  ],
                  "wind": {
                    "deg": 306,
                    "gust": 1.28,
                    "speed": 0.73
                  }
                },
                {
                  "clouds": {
                    "all": 100
                  },
                  "dt": 1715115600,
                  "dt_txt": "2024-05-07 21:00:00",
                  "main": {
                    "feels_like": 9.96,
                    "grnd_level": 1016,
                    "humidity": 73,
                    "pressure": 1022,
                    "sea_level": 1022,
                    "temp": 10.91,
                    "temp_kf": 0,
                    "temp_max": 10.91,
                    "temp_min": 10.91
                  },
                  "pop": 0,
                  "sys": {
                    "pod": "n"
                  },
                  "visibility": 10000,
                  "weather": [
                    {
                      "description": "overcast clouds",
                      "icon": "04n",
                      "id": 804,
                      "main": "Clouds"
                    }
                  ],
                  "wind": {
                    "deg": 46,
                    "gust": 6.32,
                    "speed": 3.32
                  }
                },
                {
                  "clouds": {
                    "all": 100
                  },
                  "dt": 1715126400,
                  "dt_txt": "2024-05-08 00:00:00",
                  "main": {
                    "feels_like": 8.4,
                    "grnd_level": 1017,
                    "humidity": 68,
                    "pressure": 1023,
                    "sea_level": 1023,
                    "temp": 9.81,
                    "temp_kf": 0,
                    "temp_max": 9.81,
                    "temp_min": 9.81
                  },
                  "pop": 0,
                  "sys": {
                    "pod": "n"
                  },
                  "visibility": 10000,
                  "weather": [
                    {
                      "description": "overcast clouds",
                      "icon": "04n",
                      "id": 804,
                      "main": "Clouds"
                    }
                  ],
                  "wind": {
                    "deg": 68,
                    "gust": 6.61,
                    "speed": 2.8
                  }
                },
                {
                  "clouds": {
                    "all": 100
                  },
                  "dt": 1715137200,
                  "dt_txt": "2024-05-08 03:00:00",
                  "main": {
                    "feels_like": 7.46,
                    "grnd_level": 1018,
                    "humidity": 68,
                    "pressure": 1024,
                    "sea_level": 1024,
                    "temp": 8.89,
                    "temp_kf": 0,
                    "temp_max": 8.89,
                    "temp_min": 8.89
                  },
                  "pop": 0,
                  "sys": {
                    "pod": "n"
                  },
                  "visibility": 10000,
                  "weather": [
                    {
                      "description": "overcast clouds",
                      "icon": "04n",
                      "id": 804,
                      "main": "Clouds"
                    }
                  ],
                  "wind": {
                    "deg": 83,
                    "gust": 6.54,
                    "speed": 2.57
                  }
                },
                {
                  "clouds": {
                    "all": 100
                  },
                  "dt": 1715148000,
                  "dt_txt": "2024-05-08 06:00:00",
                  "main": {
                    "feels_like": 9.39,
                    "grnd_level": 1019,
                    "humidity": 63,
                    "pressure": 1025,
                    "sea_level": 1025,
                    "temp": 10.63,
                    "temp_kf": 0,
                    "temp_max": 10.63,
                    "temp_min": 10.63
                  },
                  "pop": 0,
                  "sys": {
                    "pod": "d"
                  },
                  "visibility": 10000,
                  "weather": [
                    {
                      "description": "overcast clouds",
                      "icon": "04d",
                      "id": 804,
                      "main": "Clouds"
                    }
                  ],
                  "wind": {
                    "deg": 93,
                    "gust": 5.1,
                    "speed": 2.9
                  }
                },
                {
                  "clouds": {
                    "all": 100
                  },
                  "dt": 1715158800,
                  "dt_txt": "2024-05-08 09:00:00",
                  "main": {
                    "feels_like": 13.42,
                    "grnd_level": 1020,
                    "humidity": 45,
                    "pressure": 1025,
                    "sea_level": 1025,
                    "temp": 14.72,
                    "temp_kf": 0,
                    "temp_max": 14.72,
                    "temp_min": 14.72
                  },
                  "pop": 0,
                  "sys": {
                    "pod": "d"
                  },
                  "visibility": 10000,
                  "weather": [
                    {
                      "description": "overcast clouds",
                      "icon": "04d",
                      "id": 804,
                      "main": "Clouds"
                    }
                  ],
                  "wind": {
                    "deg": 71,
                    "gust": 3.83,
                    "speed": 2.89
                  }
                },
                {
                  "clouds": {
                    "all": 100
                  },
                  "dt": 1715169600,
                  "dt_txt": "2024-05-08 12:00:00",
                  "main": {
                    "feels_like": 15.75,
                    "grnd_level": 1020,
                    "humidity": 39,
                    "pressure": 1025,
                    "sea_level": 1025,
                    "temp": 16.98,
                    "temp_kf": 0,
                    "temp_max": 16.98,
                    "temp_min": 16.98
                  },
                  "pop": 0,
                  "sys": {
                    "pod": "d"
                  },
                  "visibility": 10000,
                  "weather": [
                    {
                      "description": "overcast clouds",
                      "icon": "04d",
                      "id": 804,
                      "main": "Clouds"
                    }
                  ],
                  "wind": {
                    "deg": 64,
                    "gust": 3.34,
                    "speed": 3.41
                  }
                },
                {
                  "clouds": {
                    "all": 73
                  },
                  "dt": 1715180400,
                  "dt_txt": "2024-05-08 15:00:00",
                  "main": {
                    "feels_like": 16.74,
                    "grnd_level": 1019,
                    "humidity": 37,
                    "pressure": 1025,
                    "sea_level": 1025,
                    "temp": 17.93,
                    "temp_kf": 0,
                    "temp_max": 17.93,
                    "temp_min": 17.93
                  },
                  "pop": 0,
                  "sys": {
                    "pod": "d"
                  },
                  "visibility": 10000,
                  "weather": [
                    {
                      "description": "broken clouds",
                      "icon": "04d",
                      "id": 803,
                      "main": "Clouds"
                    }
                  ],
                  "wind": {
                    "deg": 64,
                    "gust": 2.49,
                    "speed": 2.71
                  }
                },
                {
                  "clouds": {
                    "all": 39
                  },
                  "dt": 1715191200,
                  "dt_txt": "2024-05-08 18:00:00",
                  "main": {
                    "feels_like": 14.62,
                    "grnd_level": 1020,
                    "humidity": 48,
                    "pressure": 1025,
                    "sea_level": 1025,
                    "temp": 15.74,
                    "temp_kf": 0,
                    "temp_max": 15.74,
                    "temp_min": 15.74
                  },
                  "pop": 0,
                  "sys": {
                    "pod": "d"
                  },
                  "visibility": 10000,
                  "weather": [
                    {
                      "description": "scattered clouds",
                      "icon": "03d",
                      "id": 802,
                      "main": "Clouds"
                    }
                  ],
                  "wind": {
                    "deg": 71,
                    "gust": 4.29,
                    "speed": 2.56
                  }
                },
                {
                  "clouds": {
                    "all": 0
                  },
                  "dt": 1715202000,
                  "dt_txt": "2024-05-08 21:00:00",
                  "main": {
                    "feels_like": 11.46,
                    "grnd_level": 1021,
                    "humidity": 57,
                    "pressure": 1027,
                    "sea_level": 1027,
                    "temp": 12.65,
                    "temp_kf": 0,
                    "temp_max": 12.65,
                    "temp_min": 12.65
                  },
                  "pop": 0,
                  "sys": {
                    "pod": "n"
                  },
                  "visibility": 10000,
                  "weather": [
                    {
                      "description": "clear sky",
                      "icon": "01n",
                      "id": 800,
                      "main": "Clear"
                    }
                  ],
                  "wind": {
                    "deg": 68,
                    "gust": 2.88,
                    "speed": 1.96
                  }
                },
                {
                  "clouds": {
                    "all": 6
                  },
                  "dt": 1715212800,
                  "dt_txt": "2024-05-09 00:00:00",
                  "main": {
                    "feels_like": 9.41,
                    "grnd_level": 1021,
                    "humidity": 60,
                    "pressure": 1027,
                    "sea_level": 1027,
                    "temp": 10.72,
                    "temp_kf": 0,
                    "temp_max": 10.72,
                    "temp_min": 10.72
                  },
                  "pop": 0,
                  "sys": {
                    "pod": "n"
                  },
                  "visibility": 10000,
                  "weather": [
                    {
                      "description": "clear sky",
                      "icon": "01n",
                      "id": 800,
                      "main": "Clear"
                    }
                  ],
                  "wind": {
                    "deg": 107,
                    "gust": 1.99,
                    "speed": 1.64
                  }
                },
                {
                  "clouds": {
                    "all": 16
                  },
                  "dt": 1715223600,
                  "dt_txt": "2024-05-09 03:00:00",
                  "main": {
                    "feels_like": 9.53,
                    "grnd_level": 1021,
                    "humidity": 65,
                    "pressure": 1027,
                    "sea_level": 1027,
                    "temp": 9.53,
                    "temp_kf": 0,
                    "temp_max": 9.53,
                    "temp_min": 9.53
                  },
                  "pop": 0,
                  "sys": {
                    "pod": "n"
                  },
                  "visibility": 10000,
                  "weather": [
                    {
                      "description": "few clouds",
                      "icon": "02n",
                      "id": 801,
                      "main": "Clouds"
                    }
                  ],
                  "wind": {
                    "deg": 144,
                    "gust": 0.65,
                    "speed": 0.68
                  }
                },
                {
                  "clouds": {
                    "all": 13
                  },
                  "dt": 1715234400,
                  "dt_txt": "2024-05-09 06:00:00",
                  "main": {
                    "feels_like": 11.64,
                    "grnd_level": 1022,
                    "humidity": 55,
                    "pressure": 1027,
                    "sea_level": 1027,
                    "temp": 12.86,
                    "temp_kf": 0,
                    "temp_max": 12.86,
                    "temp_min": 12.86
                  },
                  "pop": 0,
                  "sys": {
                    "pod": "d"
                  },
                  "visibility": 10000,
                  "weather": [
                    {
                      "description": "few clouds",
                      "icon": "02d",
                      "id": 801,
                      "main": "Clouds"
                    }
                  ],
                  "wind": {
                    "deg": 283,
                    "gust": 1.26,
                    "speed": 0.93
                  }
                },
                {
                  "clouds": {
                    "all": 43
                  },
                  "dt": 1715245200,
                  "dt_txt": "2024-05-09 09:00:00",
                  "main": {
                    "feels_like": 16.96,
                    "grnd_level": 1021,
                    "humidity": 41,
                    "pressure": 1027,
                    "sea_level": 1027,
                    "temp": 18.03,
                    "temp_kf": 0,
                    "temp_max": 18.03,
                    "temp_min": 18.03
                  },
                  "pop": 0,
                  "sys": {
                    "pod": "d"
                  },
                  "visibility": 10000,
                  "weather": [
                    {
                      "description": "scattered clouds",
                      "icon": "03d",
                      "id": 802,
                      "main": "Clouds"
                    }
                  ],
                  "wind": {
                    "deg": 261,
                    "gust": 1.6,
                    "speed": 1.26
                  }
                },
                {
                  "clouds": {
                    "all": 62
                  },
                  "dt": 1715256000,
                  "dt_txt": "2024-05-09 12:00:00",
                  "main": {
                    "feels_like": 19.55,
                    "grnd_level": 1019,
                    "humidity": 35,
                    "pressure": 1025,
                    "sea_level": 1025,
                    "temp": 20.53,
                    "temp_kf": 0,
                    "temp_max": 20.53,
                    "temp_min": 20.53
                  },
                  "pop": 0,
                  "sys": {
                    "pod": "d"
                  },
                  "visibility": 10000,
                  "weather": [
                    {
                      "description": "broken clouds",
                      "icon": "04d",
                      "id": 803,
                      "main": "Clouds"
                    }
                  ],
                  "wind": {
                    "deg": 275,
                    "gust": 2.45,
                    "speed": 2.09
                  }
                },
                {
                  "clouds": {
                    "all": 100
                  },
                  "dt": 1715266800,
                  "dt_txt": "2024-05-09 15:00:00",
                  "main": {
                    "feels_like": 19.63,
                    "grnd_level": 1018,
                    "humidity": 37,
                    "pressure": 1023,
                    "sea_level": 1023,
                    "temp": 20.55,
                    "temp_kf": 0,
                    "temp_max": 20.55,
                    "temp_min": 20.55
                  },
                  "pop": 0,
                  "sys": {
                    "pod": "d"
                  },
                  "visibility": 10000,
                  "weather": [
                    {
                      "description": "overcast clouds",
                      "icon": "04d",
                      "id": 804,
                      "main": "Clouds"
                    }
                  ],
                  "wind": {
                    "deg": 302,
                    "gust": 3.22,
                    "speed": 3.52
                  }
                },
                {
                  "clouds": {
                    "all": 92
                  },
                  "dt": 1715277600,
                  "dt_txt": "2024-05-09 18:00:00",
                  "main": {
                    "feels_like": 16.59,
                    "grnd_level": 1018,
                    "humidity": 54,
                    "pressure": 1023,
                    "sea_level": 1023,
                    "temp": 17.39,
                    "temp_kf": 0,
                    "temp_max": 17.39,
                    "temp_min": 17.39
                  },
                  "pop": 0,
                  "sys": {
                    "pod": "d"
                  },
                  "visibility": 10000,
                  "weather": [
                    {
                      "description": "overcast clouds",
                      "icon": "04d",
                      "id": 804,
                      "main": "Clouds"
                    }
                  ],
                  "wind": {
                    "deg": 331,
                    "gust": 4.88,
                    "speed": 3.1
                  }
                },
                {
                  "clouds": {
                    "all": 100
                  },
                  "dt": 1715288400,
                  "dt_txt": "2024-05-09 21:00:00",
                  "main": {
                    "feels_like": 14.16,
                    "grnd_level": 1018,
                    "humidity": 67,
                    "pressure": 1024,
                    "sea_level": 1024,
                    "temp": 14.87,
                    "temp_kf": 0,
                    "temp_max": 14.87,
                    "temp_min": 14.87
                  },
                  "pop": 0,
                  "sys": {
                    "pod": "n"
                  },
                  "visibility": 10000,
                  "weather": [
                    {
                      "description": "overcast clouds",
                      "icon": "04n",
                      "id": 804,
                      "main": "Clouds"
                    }
                  ],
                  "wind": {
                    "deg": 344,
                    "gust": 3.98,
                    "speed": 2.02
                  }
                },
                {
                  "clouds": {
                    "all": 100
                  },
                  "dt": 1715299200,
                  "dt_txt": "2024-05-10 00:00:00",
                  "main": {
                    "feels_like": 13.82,
                    "grnd_level": 1017,
                    "humidity": 69,
                    "pressure": 1023,
                    "sea_level": 1023,
                    "temp": 14.51,
                    "temp_kf": 0,
                    "temp_max": 14.51,
                    "temp_min": 14.51
                  },
                  "pop": 0,
                  "sys": {
                    "pod": "n"
                  },
                  "visibility": 10000,
                  "weather": [
                    {
                      "description": "overcast clouds",
                      "icon": "04n",
                      "id": 804,
                      "main": "Clouds"
                    }
                  ],
                  "wind": {
                    "deg": 335,
                    "gust": 0.72,
                    "speed": 0.47
                  }
                },
                {
                  "clouds": {
                    "all": 100
                  },
                  "dt": 1715310000,
                  "dt_txt": "2024-05-10 03:00:00",
                  "main": {
                    "feels_like": 12.24,
                    "grnd_level": 1017,
                    "humidity": 78,
                    "pressure": 1023,
                    "sea_level": 1023,
                    "temp": 12.86,
                    "temp_kf": 0,
                    "temp_max": 12.86,
                    "temp_min": 12.86
                  },
                  "pop": 0,
                  "sys": {
                    "pod": "n"
                  },
                  "visibility": 10000,
                  "weather": [
                    {
                      "description": "overcast clouds",
                      "icon": "04n",
                      "id": 804,
                      "main": "Clouds"
                    }
                  ],
                  "wind": {
                    "deg": 316,
                    "gust": 2.53,
                    "speed": 1.57
                  }
                },
                {
                  "clouds": {
                    "all": 98
                  },
                  "dt": 1715320800,
                  "dt_txt": "2024-05-10 06:00:00",
                  "main": {
                    "feels_like": 12.53,
                    "grnd_level": 1018,
                    "humidity": 76,
                    "pressure": 1023,
                    "sea_level": 1023,
                    "temp": 13.17,
                    "temp_kf": 0,
                    "temp_max": 13.17,
                    "temp_min": 13.17
                  },
                  "pop": 0,
                  "sys": {
                    "pod": "d"
                  },
                  "visibility": 10000,
                  "weather": [
                    {
                      "description": "overcast clouds",
                      "icon": "04d",
                      "id": 804,
                      "main": "Clouds"
                    }
                  ],
                  "wind": {
                    "deg": 304,
                    "gust": 4.54,
                    "speed": 2.7
                  }
                },
                {
                  "clouds": {
                    "all": 100
                  },
                  "dt": 1715331600,
                  "dt_txt": "2024-05-10 09:00:00",
                  "main": {
                    "feels_like": 14.82,
                    "grnd_level": 1017,
                    "humidity": 62,
                    "pressure": 1023,
                    "sea_level": 1023,
                    "temp": 15.59,
                    "temp_kf": 0,
                    "temp_max": 15.59,
                    "temp_min": 15.59
                  },
                  "pop": 0,
                  "sys": {
                    "pod": "d"
                  },
                  "visibility": 10000,
                  "weather": [
                    {
                      "description": "overcast clouds",
                      "icon": "04d",
                      "id": 804,
                      "main": "Clouds"
                    }
                  ],
                  "wind": {
                    "deg": 295,
                    "gust": 4.12,
                    "speed": 2.8
                  }
                },
                {
                  "clouds": {
                    "all": 86
                  },
                  "dt": 1715342400,
                  "dt_txt": "2024-05-10 12:00:00",
                  "main": {
                    "feels_like": 19.32,
                    "grnd_level": 1017,
                    "humidity": 47,
                    "pressure": 1022,
                    "sea_level": 1022,
                    "temp": 20.03,
                    "temp_kf": 0,
                    "temp_max": 20.03,
                    "temp_min": 20.03
                  },
                  "pop": 0,
                  "sys": {
                    "pod": "d"
                  },
                  "visibility": 10000,
                  "weather": [
                    {
                      "description": "overcast clouds",
                      "icon": "04d",
                      "id": 804,
                      "main": "Clouds"
                    }
                  ],
                  "wind": {
                    "deg": 288,
                    "gust": 4.82,
                    "speed": 3.46
                  }
                },
                {
                  "clouds": {
                    "all": 95
                  },
                  "dt": 1715353200,
                  "dt_txt": "2024-05-10 15:00:00",
                  "main": {
                    "feels_like": 18.14,
                    "grnd_level": 1016,
                    "humidity": 53,
                    "pressure": 1021,
                    "sea_level": 1021,
                    "temp": 18.82,
                    "temp_kf": 0,
                    "temp_max": 18.82,
                    "temp_min": 18.82
                  },
                  "pop": 0,
                  "sys": {
                    "pod": "d"
                  },
                  "visibility": 10000,
                  "weather": [
                    {
                      "description": "overcast clouds",
                      "icon": "04d",
                      "id": 804,
                      "main": "Clouds"
                    }
                  ],
                  "wind": {
                    "deg": 308,
                    "gust": 4.69,
                    "speed": 3.4
                  }
                },
                {
                  "clouds": {
                    "all": 83
                  },
                  "dt": 1715364000,
                  "dt_txt": "2024-05-10 18:00:00",
                  "main": {
                    "feels_like": 16.99,
                    "grnd_level": 1016,
                    "humidity": 64,
                    "pressure": 1021,
                    "sea_level": 1021,
                    "temp": 17.51,
                    "temp_kf": 0,
                    "temp_max": 17.51,
                    "temp_min": 17.51
                  },
                  "pop": 0,
                  "sys": {
                    "pod": "d"
                  },
                  "visibility": 10000,
                  "weather": [
                    {
                      "description": "broken clouds",
                      "icon": "04d",
                      "id": 803,
                      "main": "Clouds"
                    }
                  ],
                  "wind": {
                    "deg": 319,
                    "gust": 5.5,
                    "speed": 2.61
                  }
                },
                {
                  "clouds": {
                    "all": 91
                  },
                  "dt": 1715374800,
                  "dt_txt": "2024-05-10 21:00:00",
                  "main": {
                    "feels_like": 13.89,
                    "grnd_level": 1016,
                    "humidity": 84,
                    "pressure": 1022,
                    "sea_level": 1022,
                    "temp": 14.22,
                    "temp_kf": 0,
                    "temp_max": 14.22,
                    "temp_min": 14.22
                  },
                  "pop": 0,
                  "sys": {
                    "pod": "n"
                  },
                  "visibility": 10000,
                  "weather": [
                    {
                      "description": "overcast clouds",
                      "icon": "04n",
                      "id": 804,
                      "main": "Clouds"
                    }
                  ],
                  "wind": {
                    "deg": 8,
                    "gust": 4.82,
                    "speed": 2.17
                  }
                },
                {
                  "clouds": {
                    "all": 95
                  },
                  "dt": 1715385600,
                  "dt_txt": "2024-05-11 00:00:00",
                  "main": {
                    "feels_like": 12.95,
                    "grnd_level": 1016,
                    "humidity": 87,
                    "pressure": 1021,
                    "sea_level": 1021,
                    "temp": 13.29,
                    "temp_kf": 0,
                    "temp_max": 13.29,
                    "temp_min": 13.29
                  },
                  "pop": 0,
                  "sys": {
                    "pod": "n"
                  },
                  "visibility": 10000,
                  "weather": [
                    {
                      "description": "overcast clouds",
                      "icon": "04n",
                      "id": 804,
                      "main": "Clouds"
                    }
                  ],
                  "wind": {
                    "deg": 15,
                    "gust": 2.31,
                    "speed": 1.48
                  }
                },
                {
                  "clouds": {
                    "all": 100
                  },
                  "dt": 1715396400,
                  "dt_txt": "2024-05-11 03:00:00",
                  "main": {
                    "feels_like": 12.08,
                    "grnd_level": 1016,
                    "humidity": 88,
                    "pressure": 1021,
                    "sea_level": 1021,
                    "temp": 12.48,
                    "temp_kf": 0,
                    "temp_max": 12.48,
                    "temp_min": 12.48
                  },
                  "pop": 0,
                  "sys": {
                    "pod": "n"
                  },
                  "visibility": 10000,
                  "weather": [
                    {
                      "description": "overcast clouds",
                      "icon": "04n",
                      "id": 804,
                      "main": "Clouds"
                    }
                  ],
                  "wind": {
                    "deg": 345,
                    "gust": 3.29,
                    "speed": 1.78
                  }
                },
                {
                  "clouds": {
                    "all": 100
                  },
                  "dt": 1715407200,
                  "dt_txt": "2024-05-11 06:00:00",
                  "main": {
                    "feels_like": 13.26,
                    "grnd_level": 1016,
                    "humidity": 78,
                    "pressure": 1021,
                    "sea_level": 1021,
                    "temp": 13.79,
                    "temp_kf": 0,
                    "temp_max": 13.79,
                    "temp_min": 13.79
                  },
                  "pop": 0,
                  "sys": {
                    "pod": "d"
                  },
                  "visibility": 10000,
                  "weather": [
                    {
                      "description": "overcast clouds",
                      "icon": "04d",
                      "id": 804,
                      "main": "Clouds"
                    }
                  ],
                  "wind": {
                    "deg": 338,
                    "gust": 3.47,
                    "speed": 2.2
                  }
                },
                {
                  "clouds": {
                    "all": 100
                  },
                  "dt": 1715418000,
                  "dt_txt": "2024-05-11 09:00:00",
                  "main": {
                    "feels_like": 15.31,
                    "grnd_level": 1016,
                    "humidity": 53,
                    "pressure": 1021,
                    "sea_level": 1021,
                    "temp": 16.25,
                    "temp_kf": 0,
                    "temp_max": 16.25,
                    "temp_min": 16.25
                  },
                  "pop": 0,
                  "sys": {
                    "pod": "d"
                  },
                  "visibility": 10000,
                  "weather": [
                    {
                      "description": "overcast clouds",
                      "icon": "04d",
                      "id": 804,
                      "main": "Clouds"
                    }
                  ],
                  "wind": {
                    "deg": 324,
                    "gust": 3.17,
                    "speed": 2.21
                  }
                },
                {
                  "clouds": {
                    "all": 92
                  },
                  "dt": 1715428800,
                  "dt_txt": "2024-05-11 12:00:00",
                  "main": {
                    "feels_like": 19.7,
                    "grnd_level": 1015,
                    "humidity": 42,
                    "pressure": 1020,
                    "sea_level": 1020,
                    "temp": 20.5,
                    "temp_kf": 0,
                    "temp_max": 20.5,
                    "temp_min": 20.5
                  },
                  "pop": 0,
                  "sys": {
                    "pod": "d"
                  },
                  "visibility": 10000,
                  "weather": [
                    {
                      "description": "overcast clouds",
                      "icon": "04d",
                      "id": 804,
                      "main": "Clouds"
                    }
                  ],
                  "wind": {
                    "deg": 346,
                    "gust": 4.87,
                    "speed": 2.94
                  }
                },
                {
                  "clouds": {
                    "all": 91
                  },
                  "dt": 1715439600,
                  "dt_txt": "2024-05-11 15:00:00",
                  "main": {
                    "feels_like": 18.16,
                    "grnd_level": 1014,
                    "humidity": 50,
                    "pressure": 1020,
                    "sea_level": 1020,
                    "temp": 18.91,
                    "temp_kf": 0,
                    "temp_max": 18.91,
                    "temp_min": 18.91
                  },
                  "pop": 0,
                  "sys": {
                    "pod": "d"
                  },
                  "visibility": 10000,
                  "weather": [
                    {
                      "description": "overcast clouds",
                      "icon": "04d",
                      "id": 804,
                      "main": "Clouds"
                    }
                  ],
                  "wind": {
                    "deg": 13,
                    "gust": 4.15,
                    "speed": 3.63
                  }
                },
                {
                  "clouds": {
                    "all": 83
                  },
                  "dt": 1715450400,
                  "dt_txt": "2024-05-11 18:00:00",
                  "main": {
                    "feels_like": 16.39,
                    "grnd_level": 1014,
                    "humidity": 63,
                    "pressure": 1020,
                    "sea_level": 1020,
                    "temp": 16.99,
                    "temp_kf": 0,
                    "temp_max": 16.99,
                    "temp_min": 16.99
                  },
                  "pop": 0,
                  "sys": {
                    "pod": "d"
                  },
                  "visibility": 10000,
                  "weather": [
                    {
                      "description": "broken clouds",
                      "icon": "04d",
                      "id": 803,
                      "main": "Clouds"
                    }
                  ],
                  "wind": {
                    "deg": 32,
                    "gust": 4.35,
                    "speed": 3.27
                  }
                },
                {
                  "clouds": {
                    "all": 92
                  },
                  "dt": 1715461200,
                  "dt_txt": "2024-05-11 21:00:00",
                  "main": {
                    "feels_like": 13.08,
                    "grnd_level": 1015,
                    "humidity": 73,
                    "pressure": 1021,
                    "sea_level": 1021,
                    "temp": 13.74,
                    "temp_kf": 0,
                    "temp_max": 13.74,
                    "temp_min": 13.74
                  },
                  "pop": 0,
                  "sys": {
                    "pod": "n"
                  },
                  "visibility": 10000,
                  "weather": [
                    {
                      "description": "overcast clouds",
                      "icon": "04n",
                      "id": 804,
                      "main": "Clouds"
                    }
                  ],
                  "wind": {
                    "deg": 57,
                    "gust": 5.45,
                    "speed": 3.18
                  }
                },
                {
                  "clouds": {
                    "all": 96
                  },
                  "dt": 1715472000,
                  "dt_txt": "2024-05-12 00:00:00",
                  "main": {
                    "feels_like": 11.7,
                    "grnd_level": 1015,
                    "humidity": 78,
                    "pressure": 1021,
                    "sea_level": 1021,
                    "temp": 12.37,
                    "temp_kf": 0,
                    "temp_max": 12.37,
                    "temp_min": 12.37
                  },
                  "pop": 0,
                  "sys": {
                    "pod": "n"
                  },
                  "visibility": 10000,
                  "weather": [
                    {
                      "description": "overcast clouds",
                      "icon": "04n",
                      "id": 804,
                      "main": "Clouds"
                    }
                  ],
                  "wind": {
                    "deg": 69,
                    "gust": 5.6,
                    "speed": 2.89
                  }
                },
                {
                  "clouds": {
                    "all": 85
                  },
                  "dt": 1715482800,
                  "dt_txt": "2024-05-12 03:00:00",
                  "main": {
                    "feels_like": 10.22,
                    "grnd_level": 1015,
                    "humidity": 87,
                    "pressure": 1021,
                    "sea_level": 1021,
                    "temp": 10.81,
                    "temp_kf": 0,
                    "temp_max": 10.81,
                    "temp_min": 10.81
                  },
                  "pop": 0,
                  "sys": {
                    "pod": "n"
                  },
                  "visibility": 10000,
                  "weather": [
                    {
                      "description": "overcast clouds",
                      "icon": "04n",
                      "id": 804,
                      "main": "Clouds"
                    }
                  ],
                  "wind": {
                    "deg": 78,
                    "gust": 6.85,
                    "speed": 2.8
                  }
                },
                {
                  "clouds": {
                    "all": 65
                  },
                  "dt": 1715493600,
                  "dt_txt": "2024-05-12 06:00:00",
                  "main": {
                    "feels_like": 12.26,
                    "grnd_level": 1016,
                    "humidity": 75,
                    "pressure": 1022,
                    "sea_level": 1022,
                    "temp": 12.95,
                    "temp_kf": 0,
                    "temp_max": 12.95,
                    "temp_min": 12.95
                  },
                  "pop": 0,
                  "sys": {
                    "pod": "d"
                  },
                  "visibility": 10000,
                  "weather": [
                    {
                      "description": "broken clouds",
                      "icon": "04d",
                      "id": 803,
                      "main": "Clouds"
                    }
                  ],
                  "wind": {
                    "deg": 101,
                    "gust": 6.64,
                    "speed": 4.18
                  }
                },
                {
                  "clouds": {
                    "all": 71
                  },
                  "dt": 1715504400,
                  "dt_txt": "2024-05-12 09:00:00",
                  "main": {
                    "feels_like": 15.37,
                    "grnd_level": 1017,
                    "humidity": 52,
                    "pressure": 1022,
                    "sea_level": 1022,
                    "temp": 16.32,
                    "temp_kf": 0,
                    "temp_max": 16.32,
                    "temp_min": 16.32
                  },
                  "pop": 0,
                  "sys": {
                    "pod": "d"
                  },
                  "visibility": 10000,
                  "weather": [
                    {
                      "description": "broken clouds",
                      "icon": "04d",
                      "id": 803,
                      "main": "Clouds"
                    }
                  ],
                  "wind": {
                    "deg": 97,
                    "gust": 6.07,
                    "speed": 4.99
                  }
                }
              ],
              "message": 0
            },
            "text/plain": [
              "<IPython.core.display.JSON object>"
            ]
          },
          "execution_count": 13,
          "metadata": {
            "application/json": {
              "expanded": false,
              "root": "root"
            }
          },
          "output_type": "execute_result"
        }
      ],
      "source": [
        "JSON(json)"
      ]
    },
    {
      "cell_type": "markdown",
      "metadata": {
        "id": "3wXS-CNTYVaw"
      },
      "source": [
        "# Exploring the json\n",
        "Remember, if you want to know more about any of the information in the json, or you're unsure what a key is, check out the [open weather docs](https://openweathermap.org/forecast5).\n",
        "\n",
        "First, let's look at the keys"
      ]
    },
    {
      "cell_type": "code",
      "execution_count": null,
      "metadata": {
        "colab": {
          "base_uri": "https://localhost:8080/"
        },
        "id": "MRRRPPXNXmR8",
        "outputId": "6c6ab096-e6d3-459c-bb4c-e8926e7f1c11"
      },
      "outputs": [
        {
          "data": {
            "text/plain": [
              "dict_keys(['cod', 'message', 'cnt', 'list', 'city'])"
            ]
          },
          "execution_count": 14,
          "metadata": {},
          "output_type": "execute_result"
        }
      ],
      "source": [
        "json.keys()"
      ]
    },
    {
      "cell_type": "code",
      "execution_count": null,
      "metadata": {
        "colab": {
          "base_uri": "https://localhost:8080/",
          "height": 35
        },
        "id": "PCGTl51bXx4K",
        "outputId": "e2f4b719-f4a1-40e0-9994-d0ebdb3f7d2c"
      },
      "outputs": [
        {
          "data": {
            "text/plain": [
              "'200'"
            ]
          },
          "execution_count": 15,
          "metadata": {},
          "output_type": "execute_result"
        }
      ],
      "source": [
        "json[\"cod\"]"
      ]
    },
    {
      "cell_type": "code",
      "execution_count": null,
      "metadata": {
        "colab": {
          "base_uri": "https://localhost:8080/"
        },
        "id": "Pbxh4YIAXx1k",
        "outputId": "01b9b408-7336-4bed-9fe7-3b3880e4e3d3"
      },
      "outputs": [
        {
          "data": {
            "text/plain": [
              "0"
            ]
          },
          "execution_count": 16,
          "metadata": {},
          "output_type": "execute_result"
        }
      ],
      "source": [
        "json[\"message\"]"
      ]
    },
    {
      "cell_type": "code",
      "execution_count": null,
      "metadata": {
        "colab": {
          "base_uri": "https://localhost:8080/"
        },
        "id": "4iezUsPAXxxa",
        "outputId": "e4a85476-3bf5-4114-9b29-a6ff45579e82"
      },
      "outputs": [
        {
          "data": {
            "text/plain": [
              "40"
            ]
          },
          "execution_count": 17,
          "metadata": {},
          "output_type": "execute_result"
        }
      ],
      "source": [
        "json[\"cnt\"]"
      ]
    },
    {
      "cell_type": "code",
      "execution_count": null,
      "metadata": {
        "collapsed": true,
        "id": "_D94V9Z4V4PT",
        "jupyter": {
          "outputs_hidden": true
        },
        "scrolled": true,
        "outputId": "f76c398b-2945-4ad3-b030-f9f0445703c9"
      },
      "outputs": [
        {
          "data": {
            "text/plain": [
              "[{'dt': 1715083200,\n",
              "  'main': {'temp': 11.96,\n",
              "   'feels_like': 11.17,\n",
              "   'temp_min': 11.96,\n",
              "   'temp_max': 12.59,\n",
              "   'pressure': 1009,\n",
              "   'sea_level': 1009,\n",
              "   'grnd_level': 1013,\n",
              "   'humidity': 75,\n",
              "   'temp_kf': -0.63},\n",
              "  'weather': [{'id': 804,\n",
              "    'main': 'Clouds',\n",
              "    'description': 'overcast clouds',\n",
              "    'icon': '04d'}],\n",
              "  'clouds': {'all': 100},\n",
              "  'wind': {'speed': 4.09, 'deg': 62, 'gust': 5.24},\n",
              "  'visibility': 10000,\n",
              "  'pop': 0,\n",
              "  'sys': {'pod': 'd'},\n",
              "  'dt_txt': '2024-05-07 12:00:00'},\n",
              " {'dt': 1715094000,\n",
              "  'main': {'temp': 13.45,\n",
              "   'feels_like': 12.52,\n",
              "   'temp_min': 13.45,\n",
              "   'temp_max': 14.35,\n",
              "   'pressure': 1014,\n",
              "   'sea_level': 1014,\n",
              "   'grnd_level': 1014,\n",
              "   'humidity': 64,\n",
              "   'temp_kf': -0.9},\n",
              "  'weather': [{'id': 804,\n",
              "    'main': 'Clouds',\n",
              "    'description': 'overcast clouds',\n",
              "    'icon': '04d'}],\n",
              "  'clouds': {'all': 100},\n",
              "  'wind': {'speed': 2.77, 'deg': 98, 'gust': 5.11},\n",
              "  'visibility': 10000,\n",
              "  'pop': 0,\n",
              "  'sys': {'pod': 'd'},\n",
              "  'dt_txt': '2024-05-07 15:00:00'},\n",
              " {'dt': 1715104800,\n",
              "  'main': {'temp': 13.41,\n",
              "   'feels_like': 12.45,\n",
              "   'temp_min': 13.41,\n",
              "   'temp_max': 13.41,\n",
              "   'pressure': 1020,\n",
              "   'sea_level': 1020,\n",
              "   'grnd_level': 1015,\n",
              "   'humidity': 63,\n",
              "   'temp_kf': 0},\n",
              "  'weather': [{'id': 804,\n",
              "    'main': 'Clouds',\n",
              "    'description': 'overcast clouds',\n",
              "    'icon': '04d'}],\n",
              "  'clouds': {'all': 100},\n",
              "  'wind': {'speed': 0.73, 'deg': 306, 'gust': 1.28},\n",
              "  'visibility': 10000,\n",
              "  'pop': 0,\n",
              "  'sys': {'pod': 'd'},\n",
              "  'dt_txt': '2024-05-07 18:00:00'},\n",
              " {'dt': 1715115600,\n",
              "  'main': {'temp': 10.91,\n",
              "   'feels_like': 9.96,\n",
              "   'temp_min': 10.91,\n",
              "   'temp_max': 10.91,\n",
              "   'pressure': 1022,\n",
              "   'sea_level': 1022,\n",
              "   'grnd_level': 1016,\n",
              "   'humidity': 73,\n",
              "   'temp_kf': 0},\n",
              "  'weather': [{'id': 804,\n",
              "    'main': 'Clouds',\n",
              "    'description': 'overcast clouds',\n",
              "    'icon': '04n'}],\n",
              "  'clouds': {'all': 100},\n",
              "  'wind': {'speed': 3.32, 'deg': 46, 'gust': 6.32},\n",
              "  'visibility': 10000,\n",
              "  'pop': 0,\n",
              "  'sys': {'pod': 'n'},\n",
              "  'dt_txt': '2024-05-07 21:00:00'},\n",
              " {'dt': 1715126400,\n",
              "  'main': {'temp': 9.81,\n",
              "   'feels_like': 8.4,\n",
              "   'temp_min': 9.81,\n",
              "   'temp_max': 9.81,\n",
              "   'pressure': 1023,\n",
              "   'sea_level': 1023,\n",
              "   'grnd_level': 1017,\n",
              "   'humidity': 68,\n",
              "   'temp_kf': 0},\n",
              "  'weather': [{'id': 804,\n",
              "    'main': 'Clouds',\n",
              "    'description': 'overcast clouds',\n",
              "    'icon': '04n'}],\n",
              "  'clouds': {'all': 100},\n",
              "  'wind': {'speed': 2.8, 'deg': 68, 'gust': 6.61},\n",
              "  'visibility': 10000,\n",
              "  'pop': 0,\n",
              "  'sys': {'pod': 'n'},\n",
              "  'dt_txt': '2024-05-08 00:00:00'},\n",
              " {'dt': 1715137200,\n",
              "  'main': {'temp': 8.89,\n",
              "   'feels_like': 7.46,\n",
              "   'temp_min': 8.89,\n",
              "   'temp_max': 8.89,\n",
              "   'pressure': 1024,\n",
              "   'sea_level': 1024,\n",
              "   'grnd_level': 1018,\n",
              "   'humidity': 68,\n",
              "   'temp_kf': 0},\n",
              "  'weather': [{'id': 804,\n",
              "    'main': 'Clouds',\n",
              "    'description': 'overcast clouds',\n",
              "    'icon': '04n'}],\n",
              "  'clouds': {'all': 100},\n",
              "  'wind': {'speed': 2.57, 'deg': 83, 'gust': 6.54},\n",
              "  'visibility': 10000,\n",
              "  'pop': 0,\n",
              "  'sys': {'pod': 'n'},\n",
              "  'dt_txt': '2024-05-08 03:00:00'},\n",
              " {'dt': 1715148000,\n",
              "  'main': {'temp': 10.63,\n",
              "   'feels_like': 9.39,\n",
              "   'temp_min': 10.63,\n",
              "   'temp_max': 10.63,\n",
              "   'pressure': 1025,\n",
              "   'sea_level': 1025,\n",
              "   'grnd_level': 1019,\n",
              "   'humidity': 63,\n",
              "   'temp_kf': 0},\n",
              "  'weather': [{'id': 804,\n",
              "    'main': 'Clouds',\n",
              "    'description': 'overcast clouds',\n",
              "    'icon': '04d'}],\n",
              "  'clouds': {'all': 100},\n",
              "  'wind': {'speed': 2.9, 'deg': 93, 'gust': 5.1},\n",
              "  'visibility': 10000,\n",
              "  'pop': 0,\n",
              "  'sys': {'pod': 'd'},\n",
              "  'dt_txt': '2024-05-08 06:00:00'},\n",
              " {'dt': 1715158800,\n",
              "  'main': {'temp': 14.72,\n",
              "   'feels_like': 13.42,\n",
              "   'temp_min': 14.72,\n",
              "   'temp_max': 14.72,\n",
              "   'pressure': 1025,\n",
              "   'sea_level': 1025,\n",
              "   'grnd_level': 1020,\n",
              "   'humidity': 45,\n",
              "   'temp_kf': 0},\n",
              "  'weather': [{'id': 804,\n",
              "    'main': 'Clouds',\n",
              "    'description': 'overcast clouds',\n",
              "    'icon': '04d'}],\n",
              "  'clouds': {'all': 100},\n",
              "  'wind': {'speed': 2.89, 'deg': 71, 'gust': 3.83},\n",
              "  'visibility': 10000,\n",
              "  'pop': 0,\n",
              "  'sys': {'pod': 'd'},\n",
              "  'dt_txt': '2024-05-08 09:00:00'},\n",
              " {'dt': 1715169600,\n",
              "  'main': {'temp': 16.98,\n",
              "   'feels_like': 15.75,\n",
              "   'temp_min': 16.98,\n",
              "   'temp_max': 16.98,\n",
              "   'pressure': 1025,\n",
              "   'sea_level': 1025,\n",
              "   'grnd_level': 1020,\n",
              "   'humidity': 39,\n",
              "   'temp_kf': 0},\n",
              "  'weather': [{'id': 804,\n",
              "    'main': 'Clouds',\n",
              "    'description': 'overcast clouds',\n",
              "    'icon': '04d'}],\n",
              "  'clouds': {'all': 100},\n",
              "  'wind': {'speed': 3.41, 'deg': 64, 'gust': 3.34},\n",
              "  'visibility': 10000,\n",
              "  'pop': 0,\n",
              "  'sys': {'pod': 'd'},\n",
              "  'dt_txt': '2024-05-08 12:00:00'},\n",
              " {'dt': 1715180400,\n",
              "  'main': {'temp': 17.93,\n",
              "   'feels_like': 16.74,\n",
              "   'temp_min': 17.93,\n",
              "   'temp_max': 17.93,\n",
              "   'pressure': 1025,\n",
              "   'sea_level': 1025,\n",
              "   'grnd_level': 1019,\n",
              "   'humidity': 37,\n",
              "   'temp_kf': 0},\n",
              "  'weather': [{'id': 803,\n",
              "    'main': 'Clouds',\n",
              "    'description': 'broken clouds',\n",
              "    'icon': '04d'}],\n",
              "  'clouds': {'all': 73},\n",
              "  'wind': {'speed': 2.71, 'deg': 64, 'gust': 2.49},\n",
              "  'visibility': 10000,\n",
              "  'pop': 0,\n",
              "  'sys': {'pod': 'd'},\n",
              "  'dt_txt': '2024-05-08 15:00:00'},\n",
              " {'dt': 1715191200,\n",
              "  'main': {'temp': 15.74,\n",
              "   'feels_like': 14.62,\n",
              "   'temp_min': 15.74,\n",
              "   'temp_max': 15.74,\n",
              "   'pressure': 1025,\n",
              "   'sea_level': 1025,\n",
              "   'grnd_level': 1020,\n",
              "   'humidity': 48,\n",
              "   'temp_kf': 0},\n",
              "  'weather': [{'id': 802,\n",
              "    'main': 'Clouds',\n",
              "    'description': 'scattered clouds',\n",
              "    'icon': '03d'}],\n",
              "  'clouds': {'all': 39},\n",
              "  'wind': {'speed': 2.56, 'deg': 71, 'gust': 4.29},\n",
              "  'visibility': 10000,\n",
              "  'pop': 0,\n",
              "  'sys': {'pod': 'd'},\n",
              "  'dt_txt': '2024-05-08 18:00:00'},\n",
              " {'dt': 1715202000,\n",
              "  'main': {'temp': 12.65,\n",
              "   'feels_like': 11.46,\n",
              "   'temp_min': 12.65,\n",
              "   'temp_max': 12.65,\n",
              "   'pressure': 1027,\n",
              "   'sea_level': 1027,\n",
              "   'grnd_level': 1021,\n",
              "   'humidity': 57,\n",
              "   'temp_kf': 0},\n",
              "  'weather': [{'id': 800,\n",
              "    'main': 'Clear',\n",
              "    'description': 'clear sky',\n",
              "    'icon': '01n'}],\n",
              "  'clouds': {'all': 0},\n",
              "  'wind': {'speed': 1.96, 'deg': 68, 'gust': 2.88},\n",
              "  'visibility': 10000,\n",
              "  'pop': 0,\n",
              "  'sys': {'pod': 'n'},\n",
              "  'dt_txt': '2024-05-08 21:00:00'},\n",
              " {'dt': 1715212800,\n",
              "  'main': {'temp': 10.72,\n",
              "   'feels_like': 9.41,\n",
              "   'temp_min': 10.72,\n",
              "   'temp_max': 10.72,\n",
              "   'pressure': 1027,\n",
              "   'sea_level': 1027,\n",
              "   'grnd_level': 1021,\n",
              "   'humidity': 60,\n",
              "   'temp_kf': 0},\n",
              "  'weather': [{'id': 800,\n",
              "    'main': 'Clear',\n",
              "    'description': 'clear sky',\n",
              "    'icon': '01n'}],\n",
              "  'clouds': {'all': 6},\n",
              "  'wind': {'speed': 1.64, 'deg': 107, 'gust': 1.99},\n",
              "  'visibility': 10000,\n",
              "  'pop': 0,\n",
              "  'sys': {'pod': 'n'},\n",
              "  'dt_txt': '2024-05-09 00:00:00'},\n",
              " {'dt': 1715223600,\n",
              "  'main': {'temp': 9.53,\n",
              "   'feels_like': 9.53,\n",
              "   'temp_min': 9.53,\n",
              "   'temp_max': 9.53,\n",
              "   'pressure': 1027,\n",
              "   'sea_level': 1027,\n",
              "   'grnd_level': 1021,\n",
              "   'humidity': 65,\n",
              "   'temp_kf': 0},\n",
              "  'weather': [{'id': 801,\n",
              "    'main': 'Clouds',\n",
              "    'description': 'few clouds',\n",
              "    'icon': '02n'}],\n",
              "  'clouds': {'all': 16},\n",
              "  'wind': {'speed': 0.68, 'deg': 144, 'gust': 0.65},\n",
              "  'visibility': 10000,\n",
              "  'pop': 0,\n",
              "  'sys': {'pod': 'n'},\n",
              "  'dt_txt': '2024-05-09 03:00:00'},\n",
              " {'dt': 1715234400,\n",
              "  'main': {'temp': 12.86,\n",
              "   'feels_like': 11.64,\n",
              "   'temp_min': 12.86,\n",
              "   'temp_max': 12.86,\n",
              "   'pressure': 1027,\n",
              "   'sea_level': 1027,\n",
              "   'grnd_level': 1022,\n",
              "   'humidity': 55,\n",
              "   'temp_kf': 0},\n",
              "  'weather': [{'id': 801,\n",
              "    'main': 'Clouds',\n",
              "    'description': 'few clouds',\n",
              "    'icon': '02d'}],\n",
              "  'clouds': {'all': 13},\n",
              "  'wind': {'speed': 0.93, 'deg': 283, 'gust': 1.26},\n",
              "  'visibility': 10000,\n",
              "  'pop': 0,\n",
              "  'sys': {'pod': 'd'},\n",
              "  'dt_txt': '2024-05-09 06:00:00'},\n",
              " {'dt': 1715245200,\n",
              "  'main': {'temp': 18.03,\n",
              "   'feels_like': 16.96,\n",
              "   'temp_min': 18.03,\n",
              "   'temp_max': 18.03,\n",
              "   'pressure': 1027,\n",
              "   'sea_level': 1027,\n",
              "   'grnd_level': 1021,\n",
              "   'humidity': 41,\n",
              "   'temp_kf': 0},\n",
              "  'weather': [{'id': 802,\n",
              "    'main': 'Clouds',\n",
              "    'description': 'scattered clouds',\n",
              "    'icon': '03d'}],\n",
              "  'clouds': {'all': 43},\n",
              "  'wind': {'speed': 1.26, 'deg': 261, 'gust': 1.6},\n",
              "  'visibility': 10000,\n",
              "  'pop': 0,\n",
              "  'sys': {'pod': 'd'},\n",
              "  'dt_txt': '2024-05-09 09:00:00'},\n",
              " {'dt': 1715256000,\n",
              "  'main': {'temp': 20.53,\n",
              "   'feels_like': 19.55,\n",
              "   'temp_min': 20.53,\n",
              "   'temp_max': 20.53,\n",
              "   'pressure': 1025,\n",
              "   'sea_level': 1025,\n",
              "   'grnd_level': 1019,\n",
              "   'humidity': 35,\n",
              "   'temp_kf': 0},\n",
              "  'weather': [{'id': 803,\n",
              "    'main': 'Clouds',\n",
              "    'description': 'broken clouds',\n",
              "    'icon': '04d'}],\n",
              "  'clouds': {'all': 62},\n",
              "  'wind': {'speed': 2.09, 'deg': 275, 'gust': 2.45},\n",
              "  'visibility': 10000,\n",
              "  'pop': 0,\n",
              "  'sys': {'pod': 'd'},\n",
              "  'dt_txt': '2024-05-09 12:00:00'},\n",
              " {'dt': 1715266800,\n",
              "  'main': {'temp': 20.55,\n",
              "   'feels_like': 19.63,\n",
              "   'temp_min': 20.55,\n",
              "   'temp_max': 20.55,\n",
              "   'pressure': 1023,\n",
              "   'sea_level': 1023,\n",
              "   'grnd_level': 1018,\n",
              "   'humidity': 37,\n",
              "   'temp_kf': 0},\n",
              "  'weather': [{'id': 804,\n",
              "    'main': 'Clouds',\n",
              "    'description': 'overcast clouds',\n",
              "    'icon': '04d'}],\n",
              "  'clouds': {'all': 100},\n",
              "  'wind': {'speed': 3.52, 'deg': 302, 'gust': 3.22},\n",
              "  'visibility': 10000,\n",
              "  'pop': 0,\n",
              "  'sys': {'pod': 'd'},\n",
              "  'dt_txt': '2024-05-09 15:00:00'},\n",
              " {'dt': 1715277600,\n",
              "  'main': {'temp': 17.39,\n",
              "   'feels_like': 16.59,\n",
              "   'temp_min': 17.39,\n",
              "   'temp_max': 17.39,\n",
              "   'pressure': 1023,\n",
              "   'sea_level': 1023,\n",
              "   'grnd_level': 1018,\n",
              "   'humidity': 54,\n",
              "   'temp_kf': 0},\n",
              "  'weather': [{'id': 804,\n",
              "    'main': 'Clouds',\n",
              "    'description': 'overcast clouds',\n",
              "    'icon': '04d'}],\n",
              "  'clouds': {'all': 92},\n",
              "  'wind': {'speed': 3.1, 'deg': 331, 'gust': 4.88},\n",
              "  'visibility': 10000,\n",
              "  'pop': 0,\n",
              "  'sys': {'pod': 'd'},\n",
              "  'dt_txt': '2024-05-09 18:00:00'},\n",
              " {'dt': 1715288400,\n",
              "  'main': {'temp': 14.87,\n",
              "   'feels_like': 14.16,\n",
              "   'temp_min': 14.87,\n",
              "   'temp_max': 14.87,\n",
              "   'pressure': 1024,\n",
              "   'sea_level': 1024,\n",
              "   'grnd_level': 1018,\n",
              "   'humidity': 67,\n",
              "   'temp_kf': 0},\n",
              "  'weather': [{'id': 804,\n",
              "    'main': 'Clouds',\n",
              "    'description': 'overcast clouds',\n",
              "    'icon': '04n'}],\n",
              "  'clouds': {'all': 100},\n",
              "  'wind': {'speed': 2.02, 'deg': 344, 'gust': 3.98},\n",
              "  'visibility': 10000,\n",
              "  'pop': 0,\n",
              "  'sys': {'pod': 'n'},\n",
              "  'dt_txt': '2024-05-09 21:00:00'},\n",
              " {'dt': 1715299200,\n",
              "  'main': {'temp': 14.51,\n",
              "   'feels_like': 13.82,\n",
              "   'temp_min': 14.51,\n",
              "   'temp_max': 14.51,\n",
              "   'pressure': 1023,\n",
              "   'sea_level': 1023,\n",
              "   'grnd_level': 1017,\n",
              "   'humidity': 69,\n",
              "   'temp_kf': 0},\n",
              "  'weather': [{'id': 804,\n",
              "    'main': 'Clouds',\n",
              "    'description': 'overcast clouds',\n",
              "    'icon': '04n'}],\n",
              "  'clouds': {'all': 100},\n",
              "  'wind': {'speed': 0.47, 'deg': 335, 'gust': 0.72},\n",
              "  'visibility': 10000,\n",
              "  'pop': 0,\n",
              "  'sys': {'pod': 'n'},\n",
              "  'dt_txt': '2024-05-10 00:00:00'},\n",
              " {'dt': 1715310000,\n",
              "  'main': {'temp': 12.86,\n",
              "   'feels_like': 12.24,\n",
              "   'temp_min': 12.86,\n",
              "   'temp_max': 12.86,\n",
              "   'pressure': 1023,\n",
              "   'sea_level': 1023,\n",
              "   'grnd_level': 1017,\n",
              "   'humidity': 78,\n",
              "   'temp_kf': 0},\n",
              "  'weather': [{'id': 804,\n",
              "    'main': 'Clouds',\n",
              "    'description': 'overcast clouds',\n",
              "    'icon': '04n'}],\n",
              "  'clouds': {'all': 100},\n",
              "  'wind': {'speed': 1.57, 'deg': 316, 'gust': 2.53},\n",
              "  'visibility': 10000,\n",
              "  'pop': 0,\n",
              "  'sys': {'pod': 'n'},\n",
              "  'dt_txt': '2024-05-10 03:00:00'},\n",
              " {'dt': 1715320800,\n",
              "  'main': {'temp': 13.17,\n",
              "   'feels_like': 12.53,\n",
              "   'temp_min': 13.17,\n",
              "   'temp_max': 13.17,\n",
              "   'pressure': 1023,\n",
              "   'sea_level': 1023,\n",
              "   'grnd_level': 1018,\n",
              "   'humidity': 76,\n",
              "   'temp_kf': 0},\n",
              "  'weather': [{'id': 804,\n",
              "    'main': 'Clouds',\n",
              "    'description': 'overcast clouds',\n",
              "    'icon': '04d'}],\n",
              "  'clouds': {'all': 98},\n",
              "  'wind': {'speed': 2.7, 'deg': 304, 'gust': 4.54},\n",
              "  'visibility': 10000,\n",
              "  'pop': 0,\n",
              "  'sys': {'pod': 'd'},\n",
              "  'dt_txt': '2024-05-10 06:00:00'},\n",
              " {'dt': 1715331600,\n",
              "  'main': {'temp': 15.59,\n",
              "   'feels_like': 14.82,\n",
              "   'temp_min': 15.59,\n",
              "   'temp_max': 15.59,\n",
              "   'pressure': 1023,\n",
              "   'sea_level': 1023,\n",
              "   'grnd_level': 1017,\n",
              "   'humidity': 62,\n",
              "   'temp_kf': 0},\n",
              "  'weather': [{'id': 804,\n",
              "    'main': 'Clouds',\n",
              "    'description': 'overcast clouds',\n",
              "    'icon': '04d'}],\n",
              "  'clouds': {'all': 100},\n",
              "  'wind': {'speed': 2.8, 'deg': 295, 'gust': 4.12},\n",
              "  'visibility': 10000,\n",
              "  'pop': 0,\n",
              "  'sys': {'pod': 'd'},\n",
              "  'dt_txt': '2024-05-10 09:00:00'},\n",
              " {'dt': 1715342400,\n",
              "  'main': {'temp': 20.03,\n",
              "   'feels_like': 19.32,\n",
              "   'temp_min': 20.03,\n",
              "   'temp_max': 20.03,\n",
              "   'pressure': 1022,\n",
              "   'sea_level': 1022,\n",
              "   'grnd_level': 1017,\n",
              "   'humidity': 47,\n",
              "   'temp_kf': 0},\n",
              "  'weather': [{'id': 804,\n",
              "    'main': 'Clouds',\n",
              "    'description': 'overcast clouds',\n",
              "    'icon': '04d'}],\n",
              "  'clouds': {'all': 86},\n",
              "  'wind': {'speed': 3.46, 'deg': 288, 'gust': 4.82},\n",
              "  'visibility': 10000,\n",
              "  'pop': 0,\n",
              "  'sys': {'pod': 'd'},\n",
              "  'dt_txt': '2024-05-10 12:00:00'},\n",
              " {'dt': 1715353200,\n",
              "  'main': {'temp': 18.82,\n",
              "   'feels_like': 18.14,\n",
              "   'temp_min': 18.82,\n",
              "   'temp_max': 18.82,\n",
              "   'pressure': 1021,\n",
              "   'sea_level': 1021,\n",
              "   'grnd_level': 1016,\n",
              "   'humidity': 53,\n",
              "   'temp_kf': 0},\n",
              "  'weather': [{'id': 804,\n",
              "    'main': 'Clouds',\n",
              "    'description': 'overcast clouds',\n",
              "    'icon': '04d'}],\n",
              "  'clouds': {'all': 95},\n",
              "  'wind': {'speed': 3.4, 'deg': 308, 'gust': 4.69},\n",
              "  'visibility': 10000,\n",
              "  'pop': 0,\n",
              "  'sys': {'pod': 'd'},\n",
              "  'dt_txt': '2024-05-10 15:00:00'},\n",
              " {'dt': 1715364000,\n",
              "  'main': {'temp': 17.51,\n",
              "   'feels_like': 16.99,\n",
              "   'temp_min': 17.51,\n",
              "   'temp_max': 17.51,\n",
              "   'pressure': 1021,\n",
              "   'sea_level': 1021,\n",
              "   'grnd_level': 1016,\n",
              "   'humidity': 64,\n",
              "   'temp_kf': 0},\n",
              "  'weather': [{'id': 803,\n",
              "    'main': 'Clouds',\n",
              "    'description': 'broken clouds',\n",
              "    'icon': '04d'}],\n",
              "  'clouds': {'all': 83},\n",
              "  'wind': {'speed': 2.61, 'deg': 319, 'gust': 5.5},\n",
              "  'visibility': 10000,\n",
              "  'pop': 0,\n",
              "  'sys': {'pod': 'd'},\n",
              "  'dt_txt': '2024-05-10 18:00:00'},\n",
              " {'dt': 1715374800,\n",
              "  'main': {'temp': 14.22,\n",
              "   'feels_like': 13.89,\n",
              "   'temp_min': 14.22,\n",
              "   'temp_max': 14.22,\n",
              "   'pressure': 1022,\n",
              "   'sea_level': 1022,\n",
              "   'grnd_level': 1016,\n",
              "   'humidity': 84,\n",
              "   'temp_kf': 0},\n",
              "  'weather': [{'id': 804,\n",
              "    'main': 'Clouds',\n",
              "    'description': 'overcast clouds',\n",
              "    'icon': '04n'}],\n",
              "  'clouds': {'all': 91},\n",
              "  'wind': {'speed': 2.17, 'deg': 8, 'gust': 4.82},\n",
              "  'visibility': 10000,\n",
              "  'pop': 0,\n",
              "  'sys': {'pod': 'n'},\n",
              "  'dt_txt': '2024-05-10 21:00:00'},\n",
              " {'dt': 1715385600,\n",
              "  'main': {'temp': 13.29,\n",
              "   'feels_like': 12.95,\n",
              "   'temp_min': 13.29,\n",
              "   'temp_max': 13.29,\n",
              "   'pressure': 1021,\n",
              "   'sea_level': 1021,\n",
              "   'grnd_level': 1016,\n",
              "   'humidity': 87,\n",
              "   'temp_kf': 0},\n",
              "  'weather': [{'id': 804,\n",
              "    'main': 'Clouds',\n",
              "    'description': 'overcast clouds',\n",
              "    'icon': '04n'}],\n",
              "  'clouds': {'all': 95},\n",
              "  'wind': {'speed': 1.48, 'deg': 15, 'gust': 2.31},\n",
              "  'visibility': 10000,\n",
              "  'pop': 0,\n",
              "  'sys': {'pod': 'n'},\n",
              "  'dt_txt': '2024-05-11 00:00:00'},\n",
              " {'dt': 1715396400,\n",
              "  'main': {'temp': 12.48,\n",
              "   'feels_like': 12.08,\n",
              "   'temp_min': 12.48,\n",
              "   'temp_max': 12.48,\n",
              "   'pressure': 1021,\n",
              "   'sea_level': 1021,\n",
              "   'grnd_level': 1016,\n",
              "   'humidity': 88,\n",
              "   'temp_kf': 0},\n",
              "  'weather': [{'id': 804,\n",
              "    'main': 'Clouds',\n",
              "    'description': 'overcast clouds',\n",
              "    'icon': '04n'}],\n",
              "  'clouds': {'all': 100},\n",
              "  'wind': {'speed': 1.78, 'deg': 345, 'gust': 3.29},\n",
              "  'visibility': 10000,\n",
              "  'pop': 0,\n",
              "  'sys': {'pod': 'n'},\n",
              "  'dt_txt': '2024-05-11 03:00:00'},\n",
              " {'dt': 1715407200,\n",
              "  'main': {'temp': 13.79,\n",
              "   'feels_like': 13.26,\n",
              "   'temp_min': 13.79,\n",
              "   'temp_max': 13.79,\n",
              "   'pressure': 1021,\n",
              "   'sea_level': 1021,\n",
              "   'grnd_level': 1016,\n",
              "   'humidity': 78,\n",
              "   'temp_kf': 0},\n",
              "  'weather': [{'id': 804,\n",
              "    'main': 'Clouds',\n",
              "    'description': 'overcast clouds',\n",
              "    'icon': '04d'}],\n",
              "  'clouds': {'all': 100},\n",
              "  'wind': {'speed': 2.2, 'deg': 338, 'gust': 3.47},\n",
              "  'visibility': 10000,\n",
              "  'pop': 0,\n",
              "  'sys': {'pod': 'd'},\n",
              "  'dt_txt': '2024-05-11 06:00:00'},\n",
              " {'dt': 1715418000,\n",
              "  'main': {'temp': 16.25,\n",
              "   'feels_like': 15.31,\n",
              "   'temp_min': 16.25,\n",
              "   'temp_max': 16.25,\n",
              "   'pressure': 1021,\n",
              "   'sea_level': 1021,\n",
              "   'grnd_level': 1016,\n",
              "   'humidity': 53,\n",
              "   'temp_kf': 0},\n",
              "  'weather': [{'id': 804,\n",
              "    'main': 'Clouds',\n",
              "    'description': 'overcast clouds',\n",
              "    'icon': '04d'}],\n",
              "  'clouds': {'all': 100},\n",
              "  'wind': {'speed': 2.21, 'deg': 324, 'gust': 3.17},\n",
              "  'visibility': 10000,\n",
              "  'pop': 0,\n",
              "  'sys': {'pod': 'd'},\n",
              "  'dt_txt': '2024-05-11 09:00:00'},\n",
              " {'dt': 1715428800,\n",
              "  'main': {'temp': 20.5,\n",
              "   'feels_like': 19.7,\n",
              "   'temp_min': 20.5,\n",
              "   'temp_max': 20.5,\n",
              "   'pressure': 1020,\n",
              "   'sea_level': 1020,\n",
              "   'grnd_level': 1015,\n",
              "   'humidity': 42,\n",
              "   'temp_kf': 0},\n",
              "  'weather': [{'id': 804,\n",
              "    'main': 'Clouds',\n",
              "    'description': 'overcast clouds',\n",
              "    'icon': '04d'}],\n",
              "  'clouds': {'all': 92},\n",
              "  'wind': {'speed': 2.94, 'deg': 346, 'gust': 4.87},\n",
              "  'visibility': 10000,\n",
              "  'pop': 0,\n",
              "  'sys': {'pod': 'd'},\n",
              "  'dt_txt': '2024-05-11 12:00:00'},\n",
              " {'dt': 1715439600,\n",
              "  'main': {'temp': 18.91,\n",
              "   'feels_like': 18.16,\n",
              "   'temp_min': 18.91,\n",
              "   'temp_max': 18.91,\n",
              "   'pressure': 1020,\n",
              "   'sea_level': 1020,\n",
              "   'grnd_level': 1014,\n",
              "   'humidity': 50,\n",
              "   'temp_kf': 0},\n",
              "  'weather': [{'id': 804,\n",
              "    'main': 'Clouds',\n",
              "    'description': 'overcast clouds',\n",
              "    'icon': '04d'}],\n",
              "  'clouds': {'all': 91},\n",
              "  'wind': {'speed': 3.63, 'deg': 13, 'gust': 4.15},\n",
              "  'visibility': 10000,\n",
              "  'pop': 0,\n",
              "  'sys': {'pod': 'd'},\n",
              "  'dt_txt': '2024-05-11 15:00:00'},\n",
              " {'dt': 1715450400,\n",
              "  'main': {'temp': 16.99,\n",
              "   'feels_like': 16.39,\n",
              "   'temp_min': 16.99,\n",
              "   'temp_max': 16.99,\n",
              "   'pressure': 1020,\n",
              "   'sea_level': 1020,\n",
              "   'grnd_level': 1014,\n",
              "   'humidity': 63,\n",
              "   'temp_kf': 0},\n",
              "  'weather': [{'id': 803,\n",
              "    'main': 'Clouds',\n",
              "    'description': 'broken clouds',\n",
              "    'icon': '04d'}],\n",
              "  'clouds': {'all': 83},\n",
              "  'wind': {'speed': 3.27, 'deg': 32, 'gust': 4.35},\n",
              "  'visibility': 10000,\n",
              "  'pop': 0,\n",
              "  'sys': {'pod': 'd'},\n",
              "  'dt_txt': '2024-05-11 18:00:00'},\n",
              " {'dt': 1715461200,\n",
              "  'main': {'temp': 13.74,\n",
              "   'feels_like': 13.08,\n",
              "   'temp_min': 13.74,\n",
              "   'temp_max': 13.74,\n",
              "   'pressure': 1021,\n",
              "   'sea_level': 1021,\n",
              "   'grnd_level': 1015,\n",
              "   'humidity': 73,\n",
              "   'temp_kf': 0},\n",
              "  'weather': [{'id': 804,\n",
              "    'main': 'Clouds',\n",
              "    'description': 'overcast clouds',\n",
              "    'icon': '04n'}],\n",
              "  'clouds': {'all': 92},\n",
              "  'wind': {'speed': 3.18, 'deg': 57, 'gust': 5.45},\n",
              "  'visibility': 10000,\n",
              "  'pop': 0,\n",
              "  'sys': {'pod': 'n'},\n",
              "  'dt_txt': '2024-05-11 21:00:00'},\n",
              " {'dt': 1715472000,\n",
              "  'main': {'temp': 12.37,\n",
              "   'feels_like': 11.7,\n",
              "   'temp_min': 12.37,\n",
              "   'temp_max': 12.37,\n",
              "   'pressure': 1021,\n",
              "   'sea_level': 1021,\n",
              "   'grnd_level': 1015,\n",
              "   'humidity': 78,\n",
              "   'temp_kf': 0},\n",
              "  'weather': [{'id': 804,\n",
              "    'main': 'Clouds',\n",
              "    'description': 'overcast clouds',\n",
              "    'icon': '04n'}],\n",
              "  'clouds': {'all': 96},\n",
              "  'wind': {'speed': 2.89, 'deg': 69, 'gust': 5.6},\n",
              "  'visibility': 10000,\n",
              "  'pop': 0,\n",
              "  'sys': {'pod': 'n'},\n",
              "  'dt_txt': '2024-05-12 00:00:00'},\n",
              " {'dt': 1715482800,\n",
              "  'main': {'temp': 10.81,\n",
              "   'feels_like': 10.22,\n",
              "   'temp_min': 10.81,\n",
              "   'temp_max': 10.81,\n",
              "   'pressure': 1021,\n",
              "   'sea_level': 1021,\n",
              "   'grnd_level': 1015,\n",
              "   'humidity': 87,\n",
              "   'temp_kf': 0},\n",
              "  'weather': [{'id': 804,\n",
              "    'main': 'Clouds',\n",
              "    'description': 'overcast clouds',\n",
              "    'icon': '04n'}],\n",
              "  'clouds': {'all': 85},\n",
              "  'wind': {'speed': 2.8, 'deg': 78, 'gust': 6.85},\n",
              "  'visibility': 10000,\n",
              "  'pop': 0,\n",
              "  'sys': {'pod': 'n'},\n",
              "  'dt_txt': '2024-05-12 03:00:00'},\n",
              " {'dt': 1715493600,\n",
              "  'main': {'temp': 12.95,\n",
              "   'feels_like': 12.26,\n",
              "   'temp_min': 12.95,\n",
              "   'temp_max': 12.95,\n",
              "   'pressure': 1022,\n",
              "   'sea_level': 1022,\n",
              "   'grnd_level': 1016,\n",
              "   'humidity': 75,\n",
              "   'temp_kf': 0},\n",
              "  'weather': [{'id': 803,\n",
              "    'main': 'Clouds',\n",
              "    'description': 'broken clouds',\n",
              "    'icon': '04d'}],\n",
              "  'clouds': {'all': 65},\n",
              "  'wind': {'speed': 4.18, 'deg': 101, 'gust': 6.64},\n",
              "  'visibility': 10000,\n",
              "  'pop': 0,\n",
              "  'sys': {'pod': 'd'},\n",
              "  'dt_txt': '2024-05-12 06:00:00'},\n",
              " {'dt': 1715504400,\n",
              "  'main': {'temp': 16.32,\n",
              "   'feels_like': 15.37,\n",
              "   'temp_min': 16.32,\n",
              "   'temp_max': 16.32,\n",
              "   'pressure': 1022,\n",
              "   'sea_level': 1022,\n",
              "   'grnd_level': 1017,\n",
              "   'humidity': 52,\n",
              "   'temp_kf': 0},\n",
              "  'weather': [{'id': 803,\n",
              "    'main': 'Clouds',\n",
              "    'description': 'broken clouds',\n",
              "    'icon': '04d'}],\n",
              "  'clouds': {'all': 71},\n",
              "  'wind': {'speed': 4.99, 'deg': 97, 'gust': 6.07},\n",
              "  'visibility': 10000,\n",
              "  'pop': 0,\n",
              "  'sys': {'pod': 'd'},\n",
              "  'dt_txt': '2024-05-12 09:00:00'}]"
            ]
          },
          "execution_count": 18,
          "metadata": {},
          "output_type": "execute_result"
        }
      ],
      "source": [
        "json[\"list\"]"
      ]
    },
    {
      "cell_type": "markdown",
      "metadata": {
        "id": "pUjVZ5ZoQCPl"
      },
      "source": [
        "Looks like the information we'll want is in `list`. Let's look at the first element of `list` to investigate further."
      ]
    },
    {
      "cell_type": "code",
      "execution_count": null,
      "metadata": {
        "colab": {
          "base_uri": "https://localhost:8080/"
        },
        "id": "3JUw7JW0WjFf",
        "outputId": "57b6c401-6d0c-47b0-d7f6-bbaf49ead448"
      },
      "outputs": [
        {
          "data": {
            "text/plain": [
              "{'dt': 1715083200,\n",
              " 'main': {'temp': 11.96,\n",
              "  'feels_like': 11.17,\n",
              "  'temp_min': 11.96,\n",
              "  'temp_max': 12.59,\n",
              "  'pressure': 1009,\n",
              "  'sea_level': 1009,\n",
              "  'grnd_level': 1013,\n",
              "  'humidity': 75,\n",
              "  'temp_kf': -0.63},\n",
              " 'weather': [{'id': 804,\n",
              "   'main': 'Clouds',\n",
              "   'description': 'overcast clouds',\n",
              "   'icon': '04d'}],\n",
              " 'clouds': {'all': 100},\n",
              " 'wind': {'speed': 4.09, 'deg': 62, 'gust': 5.24},\n",
              " 'visibility': 10000,\n",
              " 'pop': 0,\n",
              " 'sys': {'pod': 'd'},\n",
              " 'dt_txt': '2024-05-07 12:00:00'}"
            ]
          },
          "execution_count": 19,
          "metadata": {},
          "output_type": "execute_result"
        }
      ],
      "source": [
        "json[\"list\"][0]"
      ]
    },
    {
      "cell_type": "code",
      "execution_count": null,
      "metadata": {
        "id": "D-76qquaVfKQ",
        "outputId": "ae4ffcb5-c4fc-4ed0-f594-9cbad48210c5"
      },
      "outputs": [
        {
          "data": {
            "text/plain": [
              "11.96"
            ]
          },
          "execution_count": 20,
          "metadata": {},
          "output_type": "execute_result"
        }
      ],
      "source": [
        "json[\"list\"][0]['main']['temp']"
      ]
    },
    {
      "cell_type": "code",
      "execution_count": null,
      "metadata": {
        "colab": {
          "base_uri": "https://localhost:8080/"
        },
        "id": "aMO-1ePSWoJG",
        "outputId": "a42da694-7f8d-4595-b10b-fb7f9d3e4941"
      },
      "outputs": [
        {
          "data": {
            "text/plain": [
              "{'id': 2950159,\n",
              " 'name': 'Berlin',\n",
              " 'coord': {'lat': 52.5244, 'lon': 13.4105},\n",
              " 'country': 'DE',\n",
              " 'population': 1000000,\n",
              " 'timezone': 7200,\n",
              " 'sunrise': 1715052185,\n",
              " 'sunset': 1715107361}"
            ]
          },
          "execution_count": 21,
          "metadata": {},
          "output_type": "execute_result"
        }
      ],
      "source": [
        "json[\"city\"]"
      ]
    },
    {
      "cell_type": "markdown",
      "metadata": {
        "id": "S2eUOgjbYYtA"
      },
      "source": [
        "# Building a DataFrame"
      ]
    },
    {
      "cell_type": "markdown",
      "metadata": {
        "id": "mBtEDWxcbHZf"
      },
      "source": [
        "## What would we like from the json?\n",
        "Let's begin by exploring the first 2 items of `list` and see what we have."
      ]
    },
    {
      "cell_type": "code",
      "execution_count": null,
      "metadata": {
        "colab": {
          "base_uri": "https://localhost:8080/"
        },
        "id": "wtaDSVkhX_8H",
        "outputId": "911f149b-5b71-48b2-c984-61941eb6e0d1"
      },
      "outputs": [
        {
          "data": {
            "text/plain": [
              "{'dt': 1702641600,\n",
              " 'main': {'temp': 3.12,\n",
              "  'feels_like': -0.39,\n",
              "  'temp_min': 3.12,\n",
              "  'temp_max': 3.74,\n",
              "  'pressure': 1023,\n",
              "  'sea_level': 1023,\n",
              "  'grnd_level': 1025,\n",
              "  'humidity': 90,\n",
              "  'temp_kf': -0.62},\n",
              " 'weather': [{'id': 803,\n",
              "   'main': 'Clouds',\n",
              "   'description': 'broken clouds',\n",
              "   'icon': '04d'}],\n",
              " 'clouds': {'all': 55},\n",
              " 'wind': {'speed': 3.91, 'deg': 238, 'gust': 9.57},\n",
              " 'visibility': 10000,\n",
              " 'pop': 0,\n",
              " 'sys': {'pod': 'd'},\n",
              " 'dt_txt': '2023-12-15 12:00:00'}"
            ]
          },
          "execution_count": 22,
          "metadata": {},
          "output_type": "execute_result"
        }
      ],
      "source": [
        "json[\"list\"][0]"
      ]
    },
    {
      "cell_type": "code",
      "execution_count": null,
      "metadata": {
        "colab": {
          "base_uri": "https://localhost:8080/"
        },
        "id": "aKgvP5guZHI9",
        "outputId": "4a1bb9f5-f8c5-4a12-8a30-ee0cdb135b4c"
      },
      "outputs": [
        {
          "data": {
            "text/plain": [
              "{'dt': 1702652400,\n",
              " 'main': {'temp': 4.22,\n",
              "  'feels_like': 0.9,\n",
              "  'temp_min': 4.22,\n",
              "  'temp_max': 4.93,\n",
              "  'pressure': 1028,\n",
              "  'sea_level': 1028,\n",
              "  'grnd_level': 1026,\n",
              "  'humidity': 91,\n",
              "  'temp_kf': -0.71},\n",
              " 'weather': [{'id': 803,\n",
              "   'main': 'Clouds',\n",
              "   'description': 'broken clouds',\n",
              "   'icon': '04n'}],\n",
              " 'clouds': {'all': 79},\n",
              " 'wind': {'speed': 4, 'deg': 259, 'gust': 9.28},\n",
              " 'visibility': 10000,\n",
              " 'pop': 0,\n",
              " 'sys': {'pod': 'n'},\n",
              " 'dt_txt': '2023-12-15 15:00:00'}"
            ]
          },
          "execution_count": 23,
          "metadata": {},
          "output_type": "execute_result"
        }
      ],
      "source": [
        "json[\"list\"][1]"
      ]
    },
    {
      "cell_type": "markdown",
      "metadata": {
        "id": "R9cn3ze7QaC5"
      },
      "source": [
        "When deciding what is useful, remember the project goals.\n",
        "\n",
        "The time the forecast is for will be useful."
      ]
    },
    {
      "cell_type": "code",
      "execution_count": null,
      "metadata": {
        "colab": {
          "base_uri": "https://localhost:8080/",
          "height": 35
        },
        "id": "nrALtfiMZMuz",
        "outputId": "ec9783c3-b949-436f-ffe1-1a380cca0e51"
      },
      "outputs": [
        {
          "data": {
            "application/vnd.google.colaboratory.intrinsic+json": {
              "type": "string"
            },
            "text/plain": [
              "'2023-12-15 12:00:00'"
            ]
          },
          "execution_count": 24,
          "metadata": {},
          "output_type": "execute_result"
        }
      ],
      "source": [
        "json[\"list\"][0][\"dt_txt\"]"
      ]
    },
    {
      "cell_type": "markdown",
      "metadata": {
        "id": "MxQua008QdIW"
      },
      "source": [
        "The temperature will be useful. Scooters don't have heaters!"
      ]
    },
    {
      "cell_type": "code",
      "execution_count": null,
      "metadata": {
        "colab": {
          "base_uri": "https://localhost:8080/"
        },
        "id": "5RSUs7wYZR-C",
        "outputId": "11833462-f68e-4e67-c6c9-0fd90c82e439"
      },
      "outputs": [
        {
          "data": {
            "text/plain": [
              "3.12"
            ]
          },
          "execution_count": 25,
          "metadata": {},
          "output_type": "execute_result"
        }
      ],
      "source": [
        "json[\"list\"][0][\"main\"][\"temp\"]"
      ]
    },
    {
      "cell_type": "markdown",
      "metadata": {
        "id": "Eg6gbngEQls7"
      },
      "source": [
        "The forecast will be useful. Scooters don't have a roof!"
      ]
    },
    {
      "cell_type": "code",
      "execution_count": null,
      "metadata": {
        "colab": {
          "base_uri": "https://localhost:8080/",
          "height": 35
        },
        "id": "PFd-u55PZR6U",
        "outputId": "468cd6fc-cf04-40c5-85db-3aba30b718a4"
      },
      "outputs": [
        {
          "data": {
            "text/plain": [
              "'Clouds'"
            ]
          },
          "execution_count": 22,
          "metadata": {},
          "output_type": "execute_result"
        }
      ],
      "source": [
        "json[\"list\"][0][\"weather\"][0][\"main\"]"
      ]
    },
    {
      "cell_type": "markdown",
      "metadata": {
        "id": "Y6UzsVkbQ1dc"
      },
      "source": [
        "If it's been recently raining will be useful. Wet conditions will affect scooter rentals."
      ]
    },
    {
      "cell_type": "code",
      "execution_count": null,
      "metadata": {
        "colab": {
          "base_uri": "https://localhost:8080/",
          "height": 176
        },
        "id": "Na_FaBtYZR4A",
        "outputId": "378ceeaa-daa3-42e9-a032-2ac7d8b9e69e"
      },
      "outputs": [
        {
          "data": {
            "text/plain": [
              "'it is not raining'"
            ]
          },
          "execution_count": 31,
          "metadata": {},
          "output_type": "execute_result"
        }
      ],
      "source": [
        "json[\"list\"][0].get('rain',{}).get('3h','it is not raining')"
      ]
    },
    {
      "cell_type": "code",
      "execution_count": null,
      "metadata": {
        "id": "IeFu95WjVfKS",
        "outputId": "3c1b665e-0fcf-4473-8a83-05e3943c0392"
      },
      "outputs": [
        {
          "name": "stdout",
          "output_type": "stream",
          "text": [
            "it is not raining\n"
          ]
        }
      ],
      "source": [
        "try:\n",
        "    json[\"list\"][0]['rain']['3h']\n",
        "except:\n",
        "    print('it is not raining')"
      ]
    },
    {
      "cell_type": "markdown",
      "metadata": {
        "id": "mPEtpTEU8uT8"
      },
      "source": [
        "> If you get an error on 'rain', it's because it hasn't rained in the last 3 hours. But we know this key exists, because we read the [docs](https://openweathermap.org/forecast5)"
      ]
    },
    {
      "cell_type": "markdown",
      "metadata": {
        "id": "nhGoqoLCRCNz"
      },
      "source": [
        "Wind speed will be useful. It's likely to affect whether people rent scooters or not."
      ]
    },
    {
      "cell_type": "code",
      "execution_count": null,
      "metadata": {
        "colab": {
          "base_uri": "https://localhost:8080/"
        },
        "id": "4NMnU04Da3Pz",
        "outputId": "c39001a1-8340-4f03-b789-aa6a80a20ffc"
      },
      "outputs": [
        {
          "data": {
            "text/plain": [
              "4.09"
            ]
          },
          "execution_count": 32,
          "metadata": {},
          "output_type": "execute_result"
        }
      ],
      "source": [
        "json[\"list\"][0][\"wind\"][\"speed\"]"
      ]
    },
    {
      "cell_type": "markdown",
      "metadata": {
        "id": "JcS-_9A8bK4F"
      },
      "source": [
        "## Bringing together our chosen items"
      ]
    },
    {
      "cell_type": "code",
      "execution_count": null,
      "metadata": {
        "colab": {
          "base_uri": "https://localhost:8080/",
          "height": 206
        },
        "id": "b7U-OQ4YYtfC",
        "outputId": "49b5d6e3-58eb-4b32-f3d2-f51c72a601c5"
      },
      "outputs": [
        {
          "data": {
            "text/html": [
              "<div>\n",
              "<style scoped>\n",
              "    .dataframe tbody tr th:only-of-type {\n",
              "        vertical-align: middle;\n",
              "    }\n",
              "\n",
              "    .dataframe tbody tr th {\n",
              "        vertical-align: top;\n",
              "    }\n",
              "\n",
              "    .dataframe thead th {\n",
              "        text-align: right;\n",
              "    }\n",
              "</style>\n",
              "<table border=\"1\" class=\"dataframe\">\n",
              "  <thead>\n",
              "    <tr style=\"text-align: right;\">\n",
              "      <th></th>\n",
              "      <th>city</th>\n",
              "      <th>forecast_time</th>\n",
              "      <th>temperature</th>\n",
              "      <th>forecast</th>\n",
              "      <th>rain_in_last_3h</th>\n",
              "      <th>wind_speed</th>\n",
              "    </tr>\n",
              "  </thead>\n",
              "  <tbody>\n",
              "    <tr>\n",
              "      <th>0</th>\n",
              "      <td>Berlin</td>\n",
              "      <td>2024-05-07 12:00:00</td>\n",
              "      <td>11.96</td>\n",
              "      <td>Clouds</td>\n",
              "      <td>0</td>\n",
              "      <td>4.09</td>\n",
              "    </tr>\n",
              "    <tr>\n",
              "      <th>1</th>\n",
              "      <td>Berlin</td>\n",
              "      <td>2024-05-07 15:00:00</td>\n",
              "      <td>13.45</td>\n",
              "      <td>Clouds</td>\n",
              "      <td>0</td>\n",
              "      <td>2.77</td>\n",
              "    </tr>\n",
              "    <tr>\n",
              "      <th>2</th>\n",
              "      <td>Berlin</td>\n",
              "      <td>2024-05-07 18:00:00</td>\n",
              "      <td>13.41</td>\n",
              "      <td>Clouds</td>\n",
              "      <td>0</td>\n",
              "      <td>0.73</td>\n",
              "    </tr>\n",
              "    <tr>\n",
              "      <th>3</th>\n",
              "      <td>Berlin</td>\n",
              "      <td>2024-05-07 21:00:00</td>\n",
              "      <td>10.91</td>\n",
              "      <td>Clouds</td>\n",
              "      <td>0</td>\n",
              "      <td>3.32</td>\n",
              "    </tr>\n",
              "    <tr>\n",
              "      <th>4</th>\n",
              "      <td>Berlin</td>\n",
              "      <td>2024-05-08 00:00:00</td>\n",
              "      <td>9.81</td>\n",
              "      <td>Clouds</td>\n",
              "      <td>0</td>\n",
              "      <td>2.80</td>\n",
              "    </tr>\n",
              "  </tbody>\n",
              "</table>\n",
              "</div>"
            ],
            "text/plain": [
              "     city        forecast_time  temperature forecast  rain_in_last_3h  \\\n",
              "0  Berlin  2024-05-07 12:00:00        11.96   Clouds                0   \n",
              "1  Berlin  2024-05-07 15:00:00        13.45   Clouds                0   \n",
              "2  Berlin  2024-05-07 18:00:00        13.41   Clouds                0   \n",
              "3  Berlin  2024-05-07 21:00:00        10.91   Clouds                0   \n",
              "4  Berlin  2024-05-08 00:00:00         9.81   Clouds                0   \n",
              "\n",
              "   wind_speed  \n",
              "0        4.09  \n",
              "1        2.77  \n",
              "2        0.73  \n",
              "3        3.32  \n",
              "4        2.80  "
            ]
          },
          "execution_count": 33,
          "metadata": {},
          "output_type": "execute_result"
        }
      ],
      "source": [
        "weather_items = {\n",
        "        \"city\": [],\n",
        "        \"forecast_time\": [],\n",
        "        \"temperature\": [],\n",
        "        \"forecast\": [],\n",
        "        \"rain_in_last_3h\": [],\n",
        "        \"wind_speed\": []\n",
        "    }\n",
        "\n",
        "for item in json[\"list\"]:\n",
        "    weather_items['city'].append(city)\n",
        "    weather_items[\"forecast_time\"].append(item.get('dt_txt',None)),\n",
        "    weather_items[\"temperature\"].append(item[\"main\"].get(\"temp\", None)),\n",
        "    weather_items[\"forecast\"].append(item[\"weather\"][0].get(\"main\", None)),\n",
        "    weather_items[\"rain_in_last_3h\"].append(item.get(\"rain\", {}).get(\"3h\", 0)),\n",
        "    weather_items[\"wind_speed\"].append(item[\"wind\"].get(\"speed\", None)),\n",
        "\n",
        "\n",
        "weather_df = pd.DataFrame(weather_items)\n",
        "\n",
        "weather_df.head()"
      ]
    },
    {
      "cell_type": "markdown",
      "metadata": {
        "id": "oFCisTTUVmNR"
      },
      "source": [
        "The `rain` key in the JSON data is not always present. In the absence of this key, it's assumed that there hasn't been any recent rainfall. Since this key isn't always available, not encountering it during our loop can cause an error. To address this, we'll employ two `.get()` methods to handle the absence of the `rain` key.\n",
        "\n",
        "> **Remember:** The second parameter of `.get()` serves as a fallback value, which is inserted into our dictionary if the key we're looking for doesn't exist.\n",
        "\n",
        "The first `.get()` method checks for the existence of the `rain` key. If present, it will use the value associated with that key. If the `rain` key is missing, an empty dictionary will be used, preventing the code from breaking. The second `.get()` method checks for the `3h` key. If present, it will use its value. Otherwise, a default value of `0` will be used."
      ]
    },
    {
      "cell_type": "markdown",
      "metadata": {
        "id": "XlrGGoh0hyqG"
      },
      "source": [
        "# Creating a function for multiple cities"
      ]
    },
    {
      "cell_type": "code",
      "execution_count": null,
      "metadata": {
        "collapsed": true,
        "jupyter": {
          "outputs_hidden": true
        },
        "id": "tzt650PBVfKT",
        "outputId": "1a9df082-3919-4447-f3ad-d22d69c6c246"
      },
      "outputs": [
        {
          "data": {
            "text/plain": [
              "[{'dt': 1715083200,\n",
              "  'main': {'temp': 17.1,\n",
              "   'feels_like': 16.41,\n",
              "   'temp_min': 17.1,\n",
              "   'temp_max': 18.53,\n",
              "   'pressure': 1021,\n",
              "   'sea_level': 1021,\n",
              "   'grnd_level': 1018,\n",
              "   'humidity': 59,\n",
              "   'temp_kf': -1.43},\n",
              "  'weather': [{'id': 800,\n",
              "    'main': 'Clear',\n",
              "    'description': 'clear sky',\n",
              "    'icon': '01d'}],\n",
              "  'clouds': {'all': 3},\n",
              "  'wind': {'speed': 3.33, 'deg': 32, 'gust': 4.35},\n",
              "  'visibility': 10000,\n",
              "  'pop': 0,\n",
              "  'sys': {'pod': 'd'},\n",
              "  'dt_txt': '2024-05-07 12:00:00'},\n",
              " {'dt': 1715094000,\n",
              "  'main': {'temp': 17.82,\n",
              "   'feels_like': 17.2,\n",
              "   'temp_min': 17.82,\n",
              "   'temp_max': 18.54,\n",
              "   'pressure': 1022,\n",
              "   'sea_level': 1022,\n",
              "   'grnd_level': 1018,\n",
              "   'humidity': 59,\n",
              "   'temp_kf': -0.72},\n",
              "  'weather': [{'id': 500,\n",
              "    'main': 'Rain',\n",
              "    'description': 'light rain',\n",
              "    'icon': '10d'}],\n",
              "  'clouds': {'all': 25},\n",
              "  'wind': {'speed': 3.75, 'deg': 14, 'gust': 3.9},\n",
              "  'visibility': 10000,\n",
              "  'pop': 0.37,\n",
              "  'rain': {'3h': 0.12},\n",
              "  'sys': {'pod': 'd'},\n",
              "  'dt_txt': '2024-05-07 15:00:00'},\n",
              " {'dt': 1715104800,\n",
              "  'main': {'temp': 16.39,\n",
              "   'feels_like': 16.02,\n",
              "   'temp_min': 16.39,\n",
              "   'temp_max': 16.39,\n",
              "   'pressure': 1025,\n",
              "   'sea_level': 1025,\n",
              "   'grnd_level': 1020,\n",
              "   'humidity': 74,\n",
              "   'temp_kf': 0},\n",
              "  'weather': [{'id': 500,\n",
              "    'main': 'Rain',\n",
              "    'description': 'light rain',\n",
              "    'icon': '10d'}],\n",
              "  'clouds': {'all': 59},\n",
              "  'wind': {'speed': 3.41, 'deg': 25, 'gust': 4.97},\n",
              "  'visibility': 10000,\n",
              "  'pop': 0.86,\n",
              "  'rain': {'3h': 0.6},\n",
              "  'sys': {'pod': 'd'},\n",
              "  'dt_txt': '2024-05-07 18:00:00'},\n",
              " {'dt': 1715115600,\n",
              "  'main': {'temp': 13.02,\n",
              "   'feels_like': 12.68,\n",
              "   'temp_min': 13.02,\n",
              "   'temp_max': 13.02,\n",
              "   'pressure': 1027,\n",
              "   'sea_level': 1027,\n",
              "   'grnd_level': 1022,\n",
              "   'humidity': 88,\n",
              "   'temp_kf': 0},\n",
              "  'weather': [{'id': 801,\n",
              "    'main': 'Clouds',\n",
              "    'description': 'few clouds',\n",
              "    'icon': '02n'}],\n",
              "  'clouds': {'all': 17},\n",
              "  'wind': {'speed': 2.8, 'deg': 40, 'gust': 6.42},\n",
              "  'visibility': 10000,\n",
              "  'pop': 0,\n",
              "  'sys': {'pod': 'n'},\n",
              "  'dt_txt': '2024-05-07 21:00:00'},\n",
              " {'dt': 1715126400,\n",
              "  'main': {'temp': 10.92,\n",
              "   'feels_like': 10.42,\n",
              "   'temp_min': 10.92,\n",
              "   'temp_max': 10.92,\n",
              "   'pressure': 1028,\n",
              "   'sea_level': 1028,\n",
              "   'grnd_level': 1024,\n",
              "   'humidity': 90,\n",
              "   'temp_kf': 0},\n",
              "  'weather': [{'id': 801,\n",
              "    'main': 'Clouds',\n",
              "    'description': 'few clouds',\n",
              "    'icon': '02n'}],\n",
              "  'clouds': {'all': 14},\n",
              "  'wind': {'speed': 1.45, 'deg': 40, 'gust': 3.18},\n",
              "  'visibility': 10000,\n",
              "  'pop': 0,\n",
              "  'sys': {'pod': 'n'},\n",
              "  'dt_txt': '2024-05-08 00:00:00'},\n",
              " {'dt': 1715137200,\n",
              "  'main': {'temp': 9.36,\n",
              "   'feels_like': 8.94,\n",
              "   'temp_min': 9.36,\n",
              "   'temp_max': 9.36,\n",
              "   'pressure': 1028,\n",
              "   'sea_level': 1028,\n",
              "   'grnd_level': 1024,\n",
              "   'humidity': 89,\n",
              "   'temp_kf': 0},\n",
              "  'weather': [{'id': 800,\n",
              "    'main': 'Clear',\n",
              "    'description': 'clear sky',\n",
              "    'icon': '01n'}],\n",
              "  'clouds': {'all': 9},\n",
              "  'wind': {'speed': 1.48, 'deg': 28, 'gust': 2.69},\n",
              "  'visibility': 10000,\n",
              "  'pop': 0,\n",
              "  'sys': {'pod': 'n'},\n",
              "  'dt_txt': '2024-05-08 03:00:00'},\n",
              " {'dt': 1715148000,\n",
              "  'main': {'temp': 9.96,\n",
              "   'feels_like': 9.39,\n",
              "   'temp_min': 9.96,\n",
              "   'temp_max': 9.96,\n",
              "   'pressure': 1029,\n",
              "   'sea_level': 1029,\n",
              "   'grnd_level': 1024,\n",
              "   'humidity': 83,\n",
              "   'temp_kf': 0},\n",
              "  'weather': [{'id': 802,\n",
              "    'main': 'Clouds',\n",
              "    'description': 'scattered clouds',\n",
              "    'icon': '03d'}],\n",
              "  'clouds': {'all': 40},\n",
              "  'wind': {'speed': 1.72, 'deg': 39, 'gust': 3.24},\n",
              "  'visibility': 10000,\n",
              "  'pop': 0,\n",
              "  'sys': {'pod': 'd'},\n",
              "  'dt_txt': '2024-05-08 06:00:00'},\n",
              " {'dt': 1715158800,\n",
              "  'main': {'temp': 14.52,\n",
              "   'feels_like': 13.65,\n",
              "   'temp_min': 14.52,\n",
              "   'temp_max': 14.52,\n",
              "   'pressure': 1029,\n",
              "   'sea_level': 1029,\n",
              "   'grnd_level': 1025,\n",
              "   'humidity': 62,\n",
              "   'temp_kf': 0},\n",
              "  'weather': [{'id': 804,\n",
              "    'main': 'Clouds',\n",
              "    'description': 'overcast clouds',\n",
              "    'icon': '04d'}],\n",
              "  'clouds': {'all': 100},\n",
              "  'wind': {'speed': 1.5, 'deg': 58, 'gust': 2.1},\n",
              "  'visibility': 10000,\n",
              "  'pop': 0,\n",
              "  'sys': {'pod': 'd'},\n",
              "  'dt_txt': '2024-05-08 09:00:00'}]"
            ]
          },
          "execution_count": 37,
          "metadata": {},
          "output_type": "execute_result"
        }
      ],
      "source": [
        "json['list'][:8]"
      ]
    },
    {
      "cell_type": "code",
      "execution_count": null,
      "metadata": {
        "id": "B-q9ImuwVfKT"
      },
      "outputs": [],
      "source": [
        "cities=['Berlin','London']"
      ]
    },
    {
      "cell_type": "code",
      "execution_count": null,
      "metadata": {
        "id": "ZMuWJ90OVfKT"
      },
      "outputs": [],
      "source": [
        "from datetime import datetime\n",
        "from pytz import timezone\n",
        "\n",
        "berlin_timezone = timezone('Europe/Berlin')"
      ]
    },
    {
      "cell_type": "code",
      "execution_count": null,
      "metadata": {
        "id": "3v2HLYJuVfKT",
        "outputId": "b74cf598-8ff2-4d5b-9054-27389dc41464"
      },
      "outputs": [
        {
          "data": {
            "text/plain": [
              "'2024-05-07 11:52:43'"
            ]
          },
          "execution_count": 58,
          "metadata": {},
          "output_type": "execute_result"
        }
      ],
      "source": [
        "datetime.now(berlin_timezone).strftime(\"%Y-%m-%d %H:%M:%S\")"
      ]
    },
    {
      "cell_type": "code",
      "execution_count": null,
      "metadata": {
        "id": "_choYfT4VfKd"
      },
      "outputs": [],
      "source": [
        "weather_items = {\n",
        "        \"city\": [],\n",
        "        \"forecast_time\": [],\n",
        "        \"temperature\": [],\n",
        "        \"forecast\": [],\n",
        "        \"rain_in_last_3h\": [],\n",
        "        \"wind_speed\": [],\n",
        "        \"data_retrieved_at\": []\n",
        "    }\n",
        "\n",
        "for city in cities:\n",
        "    url = (f\"http://api.openweathermap.org/data/2.5/forecast?q={city}&appid={API_key}&units=metric\")\n",
        "    response = requests.get(url)\n",
        "    json = response.json()\n",
        "    my_timestamp = datetime.now(berlin_timezone).strftime(\"%Y-%m-%d %H:%M:%S\")\n",
        "\n",
        "    for item in json[\"list\"][:8]:\n",
        "        weather_items['city'].append(city)\n",
        "        weather_items[\"forecast_time\"].append(item.get('dt_txt',None)),\n",
        "        weather_items[\"temperature\"].append(item[\"main\"].get(\"temp\", None)),\n",
        "        weather_items[\"forecast\"].append(item[\"weather\"][0].get(\"main\", None)),\n",
        "        weather_items[\"rain_in_last_3h\"].append(item.get(\"rain\", {}).get(\"3h\", 0)),\n",
        "        weather_items[\"wind_speed\"].append(item[\"wind\"].get(\"speed\", None)),\n",
        "        weather_items['data_retrieved_at'].append(my_timestamp)\n",
        "\n",
        "weather_df = pd.DataFrame(weather_items)"
      ]
    },
    {
      "cell_type": "code",
      "execution_count": null,
      "metadata": {
        "scrolled": true,
        "id": "C2LTBqtuVfKe",
        "outputId": "45f3937b-5ce2-462f-82d0-1e15edd22a96"
      },
      "outputs": [
        {
          "data": {
            "text/html": [
              "<div>\n",
              "<style scoped>\n",
              "    .dataframe tbody tr th:only-of-type {\n",
              "        vertical-align: middle;\n",
              "    }\n",
              "\n",
              "    .dataframe tbody tr th {\n",
              "        vertical-align: top;\n",
              "    }\n",
              "\n",
              "    .dataframe thead th {\n",
              "        text-align: right;\n",
              "    }\n",
              "</style>\n",
              "<table border=\"1\" class=\"dataframe\">\n",
              "  <thead>\n",
              "    <tr style=\"text-align: right;\">\n",
              "      <th></th>\n",
              "      <th>city</th>\n",
              "      <th>forecast_time</th>\n",
              "      <th>temperature</th>\n",
              "      <th>forecast</th>\n",
              "      <th>rain_in_last_3h</th>\n",
              "      <th>wind_speed</th>\n",
              "      <th>data_retrieved_at</th>\n",
              "    </tr>\n",
              "  </thead>\n",
              "  <tbody>\n",
              "    <tr>\n",
              "      <th>0</th>\n",
              "      <td>Berlin</td>\n",
              "      <td>2024-05-07 12:00:00</td>\n",
              "      <td>12.36</td>\n",
              "      <td>Clouds</td>\n",
              "      <td>0.00</td>\n",
              "      <td>4.09</td>\n",
              "      <td>2024-05-07 12:00:39</td>\n",
              "    </tr>\n",
              "    <tr>\n",
              "      <th>1</th>\n",
              "      <td>Berlin</td>\n",
              "      <td>2024-05-07 15:00:00</td>\n",
              "      <td>13.65</td>\n",
              "      <td>Clouds</td>\n",
              "      <td>0.00</td>\n",
              "      <td>2.77</td>\n",
              "      <td>2024-05-07 12:00:39</td>\n",
              "    </tr>\n",
              "    <tr>\n",
              "      <th>2</th>\n",
              "      <td>Berlin</td>\n",
              "      <td>2024-05-07 18:00:00</td>\n",
              "      <td>13.41</td>\n",
              "      <td>Clouds</td>\n",
              "      <td>0.00</td>\n",
              "      <td>0.73</td>\n",
              "      <td>2024-05-07 12:00:39</td>\n",
              "    </tr>\n",
              "    <tr>\n",
              "      <th>3</th>\n",
              "      <td>Berlin</td>\n",
              "      <td>2024-05-07 21:00:00</td>\n",
              "      <td>10.91</td>\n",
              "      <td>Clouds</td>\n",
              "      <td>0.00</td>\n",
              "      <td>3.32</td>\n",
              "      <td>2024-05-07 12:00:39</td>\n",
              "    </tr>\n",
              "    <tr>\n",
              "      <th>4</th>\n",
              "      <td>Berlin</td>\n",
              "      <td>2024-05-08 00:00:00</td>\n",
              "      <td>9.81</td>\n",
              "      <td>Clouds</td>\n",
              "      <td>0.00</td>\n",
              "      <td>2.80</td>\n",
              "      <td>2024-05-07 12:00:39</td>\n",
              "    </tr>\n",
              "    <tr>\n",
              "      <th>5</th>\n",
              "      <td>Berlin</td>\n",
              "      <td>2024-05-08 03:00:00</td>\n",
              "      <td>8.89</td>\n",
              "      <td>Clouds</td>\n",
              "      <td>0.00</td>\n",
              "      <td>2.57</td>\n",
              "      <td>2024-05-07 12:00:39</td>\n",
              "    </tr>\n",
              "    <tr>\n",
              "      <th>6</th>\n",
              "      <td>Berlin</td>\n",
              "      <td>2024-05-08 06:00:00</td>\n",
              "      <td>10.63</td>\n",
              "      <td>Clouds</td>\n",
              "      <td>0.00</td>\n",
              "      <td>2.90</td>\n",
              "      <td>2024-05-07 12:00:39</td>\n",
              "    </tr>\n",
              "    <tr>\n",
              "      <th>7</th>\n",
              "      <td>Berlin</td>\n",
              "      <td>2024-05-08 09:00:00</td>\n",
              "      <td>14.72</td>\n",
              "      <td>Clouds</td>\n",
              "      <td>0.00</td>\n",
              "      <td>2.89</td>\n",
              "      <td>2024-05-07 12:00:39</td>\n",
              "    </tr>\n",
              "    <tr>\n",
              "      <th>8</th>\n",
              "      <td>London</td>\n",
              "      <td>2024-05-07 12:00:00</td>\n",
              "      <td>17.49</td>\n",
              "      <td>Clear</td>\n",
              "      <td>0.00</td>\n",
              "      <td>3.33</td>\n",
              "      <td>2024-05-07 12:00:40</td>\n",
              "    </tr>\n",
              "    <tr>\n",
              "      <th>9</th>\n",
              "      <td>London</td>\n",
              "      <td>2024-05-07 15:00:00</td>\n",
              "      <td>18.02</td>\n",
              "      <td>Rain</td>\n",
              "      <td>0.12</td>\n",
              "      <td>3.75</td>\n",
              "      <td>2024-05-07 12:00:40</td>\n",
              "    </tr>\n",
              "    <tr>\n",
              "      <th>10</th>\n",
              "      <td>London</td>\n",
              "      <td>2024-05-07 18:00:00</td>\n",
              "      <td>16.39</td>\n",
              "      <td>Rain</td>\n",
              "      <td>0.60</td>\n",
              "      <td>3.41</td>\n",
              "      <td>2024-05-07 12:00:40</td>\n",
              "    </tr>\n",
              "    <tr>\n",
              "      <th>11</th>\n",
              "      <td>London</td>\n",
              "      <td>2024-05-07 21:00:00</td>\n",
              "      <td>13.02</td>\n",
              "      <td>Clouds</td>\n",
              "      <td>0.00</td>\n",
              "      <td>2.80</td>\n",
              "      <td>2024-05-07 12:00:40</td>\n",
              "    </tr>\n",
              "    <tr>\n",
              "      <th>12</th>\n",
              "      <td>London</td>\n",
              "      <td>2024-05-08 00:00:00</td>\n",
              "      <td>10.92</td>\n",
              "      <td>Clouds</td>\n",
              "      <td>0.00</td>\n",
              "      <td>1.45</td>\n",
              "      <td>2024-05-07 12:00:40</td>\n",
              "    </tr>\n",
              "    <tr>\n",
              "      <th>13</th>\n",
              "      <td>London</td>\n",
              "      <td>2024-05-08 03:00:00</td>\n",
              "      <td>9.36</td>\n",
              "      <td>Clear</td>\n",
              "      <td>0.00</td>\n",
              "      <td>1.48</td>\n",
              "      <td>2024-05-07 12:00:40</td>\n",
              "    </tr>\n",
              "    <tr>\n",
              "      <th>14</th>\n",
              "      <td>London</td>\n",
              "      <td>2024-05-08 06:00:00</td>\n",
              "      <td>9.96</td>\n",
              "      <td>Clouds</td>\n",
              "      <td>0.00</td>\n",
              "      <td>1.72</td>\n",
              "      <td>2024-05-07 12:00:40</td>\n",
              "    </tr>\n",
              "    <tr>\n",
              "      <th>15</th>\n",
              "      <td>London</td>\n",
              "      <td>2024-05-08 09:00:00</td>\n",
              "      <td>14.52</td>\n",
              "      <td>Clouds</td>\n",
              "      <td>0.00</td>\n",
              "      <td>1.50</td>\n",
              "      <td>2024-05-07 12:00:40</td>\n",
              "    </tr>\n",
              "  </tbody>\n",
              "</table>\n",
              "</div>"
            ],
            "text/plain": [
              "      city        forecast_time  temperature forecast  rain_in_last_3h  \\\n",
              "0   Berlin  2024-05-07 12:00:00        12.36   Clouds             0.00   \n",
              "1   Berlin  2024-05-07 15:00:00        13.65   Clouds             0.00   \n",
              "2   Berlin  2024-05-07 18:00:00        13.41   Clouds             0.00   \n",
              "3   Berlin  2024-05-07 21:00:00        10.91   Clouds             0.00   \n",
              "4   Berlin  2024-05-08 00:00:00         9.81   Clouds             0.00   \n",
              "5   Berlin  2024-05-08 03:00:00         8.89   Clouds             0.00   \n",
              "6   Berlin  2024-05-08 06:00:00        10.63   Clouds             0.00   \n",
              "7   Berlin  2024-05-08 09:00:00        14.72   Clouds             0.00   \n",
              "8   London  2024-05-07 12:00:00        17.49    Clear             0.00   \n",
              "9   London  2024-05-07 15:00:00        18.02     Rain             0.12   \n",
              "10  London  2024-05-07 18:00:00        16.39     Rain             0.60   \n",
              "11  London  2024-05-07 21:00:00        13.02   Clouds             0.00   \n",
              "12  London  2024-05-08 00:00:00        10.92   Clouds             0.00   \n",
              "13  London  2024-05-08 03:00:00         9.36    Clear             0.00   \n",
              "14  London  2024-05-08 06:00:00         9.96   Clouds             0.00   \n",
              "15  London  2024-05-08 09:00:00        14.52   Clouds             0.00   \n",
              "\n",
              "    wind_speed    data_retrieved_at  \n",
              "0         4.09  2024-05-07 12:00:39  \n",
              "1         2.77  2024-05-07 12:00:39  \n",
              "2         0.73  2024-05-07 12:00:39  \n",
              "3         3.32  2024-05-07 12:00:39  \n",
              "4         2.80  2024-05-07 12:00:39  \n",
              "5         2.57  2024-05-07 12:00:39  \n",
              "6         2.90  2024-05-07 12:00:39  \n",
              "7         2.89  2024-05-07 12:00:39  \n",
              "8         3.33  2024-05-07 12:00:40  \n",
              "9         3.75  2024-05-07 12:00:40  \n",
              "10        3.41  2024-05-07 12:00:40  \n",
              "11        2.80  2024-05-07 12:00:40  \n",
              "12        1.45  2024-05-07 12:00:40  \n",
              "13        1.48  2024-05-07 12:00:40  \n",
              "14        1.72  2024-05-07 12:00:40  \n",
              "15        1.50  2024-05-07 12:00:40  "
            ]
          },
          "execution_count": 60,
          "metadata": {},
          "output_type": "execute_result"
        }
      ],
      "source": [
        "weather_df"
      ]
    },
    {
      "cell_type": "code",
      "execution_count": null,
      "metadata": {
        "id": "5QDamj9vVfKe"
      },
      "outputs": [],
      "source": [
        "def get_con_string():\n",
        "    schema=\"gans\"   # name of the database you want to use here\n",
        "    host=\"127.0.0.1\"        # to connect to your local server\n",
        "    user=\"root\"\n",
        "    password=my_stuff.my_sql_password # your password!!!!\n",
        "    port=3306\n",
        "    con = f'mysql+pymysql://{user}:{password}@{host}:{port}/{schema}'\n",
        "    return con"
      ]
    },
    {
      "cell_type": "code",
      "execution_count": null,
      "metadata": {
        "id": "C8GpXDMSVfKe"
      },
      "outputs": [],
      "source": [
        "con= get_con_string()\n",
        "\n",
        "city_df = pd.read_sql('city',con=con)"
      ]
    },
    {
      "cell_type": "code",
      "execution_count": null,
      "metadata": {
        "id": "SeE68ZtMVfKe",
        "outputId": "767533a0-5cc0-40cc-8cc9-9bdfe8de727f"
      },
      "outputs": [
        {
          "data": {
            "text/html": [
              "<div>\n",
              "<style scoped>\n",
              "    .dataframe tbody tr th:only-of-type {\n",
              "        vertical-align: middle;\n",
              "    }\n",
              "\n",
              "    .dataframe tbody tr th {\n",
              "        vertical-align: top;\n",
              "    }\n",
              "\n",
              "    .dataframe thead th {\n",
              "        text-align: right;\n",
              "    }\n",
              "</style>\n",
              "<table border=\"1\" class=\"dataframe\">\n",
              "  <thead>\n",
              "    <tr style=\"text-align: right;\">\n",
              "      <th></th>\n",
              "      <th>city_id</th>\n",
              "      <th>city</th>\n",
              "      <th>country</th>\n",
              "      <th>population</th>\n",
              "      <th>latitude</th>\n",
              "      <th>longitude</th>\n",
              "    </tr>\n",
              "  </thead>\n",
              "  <tbody>\n",
              "    <tr>\n",
              "      <th>0</th>\n",
              "      <td>1</td>\n",
              "      <td>Berlin</td>\n",
              "      <td>Germany</td>\n",
              "      <td>3755251</td>\n",
              "      <td>52°31′12″N</td>\n",
              "      <td>13°24′18″E</td>\n",
              "    </tr>\n",
              "    <tr>\n",
              "      <th>1</th>\n",
              "      <td>2</td>\n",
              "      <td>London</td>\n",
              "      <td>England</td>\n",
              "      <td>8799800</td>\n",
              "      <td>51°30′26″N</td>\n",
              "      <td>0°7′39″W</td>\n",
              "    </tr>\n",
              "  </tbody>\n",
              "</table>\n",
              "</div>"
            ],
            "text/plain": [
              "   city_id    city  country  population    latitude   longitude\n",
              "0        1  Berlin  Germany     3755251  52°31′12″N  13°24′18″E\n",
              "1        2  London  England     8799800  51°30′26″N    0°7′39″W"
            ]
          },
          "execution_count": 86,
          "metadata": {},
          "output_type": "execute_result"
        }
      ],
      "source": [
        "city_df"
      ]
    },
    {
      "cell_type": "code",
      "execution_count": null,
      "metadata": {
        "id": "SWle4Zt6VfKe",
        "outputId": "a13d2ea5-6cdd-4f0a-e14a-eac008af925c"
      },
      "outputs": [
        {
          "name": "stdout",
          "output_type": "stream",
          "text": [
            "Germany\n",
            "3755251\n",
            "England\n",
            "8799800\n"
          ]
        }
      ],
      "source": [
        "for i, row in city_df.iterrows():\n",
        "    print(row['country'])\n",
        "    print(city_df.loc[i,'population'])"
      ]
    },
    {
      "cell_type": "code",
      "execution_count": null,
      "metadata": {
        "id": "YuMfu8uPVfKe"
      },
      "outputs": [],
      "source": [
        "def get_and_store_weather_data(city_df):\n",
        "    weather_items = {\n",
        "        \"city_id\":[],\n",
        "        \"city\": [],\n",
        "        \"forecast_time\": [],\n",
        "        \"temperature\": [],\n",
        "        \"forecast\": [],\n",
        "        \"rain_in_last_3h\": [],\n",
        "        \"wind_speed\": [],\n",
        "        \"data_retrieved_at\": [],\n",
        "    }\n",
        "\n",
        "    for i, row in city_df.iterrows():\n",
        "        url = (f\"http://api.openweathermap.org/data/2.5/forecast?q={row['city']}&appid={API_key}&units=metric\")\n",
        "        response = requests.get(url)\n",
        "        json = response.json()\n",
        "        my_timestamp = datetime.now(berlin_timezone).strftime(\"%Y-%m-%d %H:%M:%S\")\n",
        "\n",
        "        for item in json[\"list\"][:8]:\n",
        "            weather_items['city_id'].append(row['city_id'])\n",
        "            weather_items['city'].append(row['city'])\n",
        "            weather_items[\"forecast_time\"].append(item.get('dt_txt',None)),\n",
        "            weather_items[\"temperature\"].append(item[\"main\"].get(\"temp\", None)),\n",
        "            weather_items[\"forecast\"].append(item[\"weather\"][0].get(\"main\", None)),\n",
        "            weather_items[\"rain_in_last_3h\"].append(item.get(\"rain\", {}).get(\"3h\", 0)),\n",
        "            weather_items[\"wind_speed\"].append(item[\"wind\"].get(\"speed\", None)),\n",
        "            weather_items['data_retrieved_at'].append(my_timestamp)\n",
        "\n",
        "    weather_df = pd.DataFrame(weather_items)\n",
        "\n",
        "    my_con = get_con_string()\n",
        "    weather_df.to_sql('weather',if_exists='append',con=my_con,index=False)\n",
        ""
      ]
    },
    {
      "cell_type": "markdown",
      "metadata": {
        "id": "5L2XB5SsVfKe"
      },
      "source": [
        "#### Call the function"
      ]
    },
    {
      "cell_type": "code",
      "execution_count": null,
      "metadata": {
        "id": "ZFsgd0IAVfKe"
      },
      "outputs": [],
      "source": [
        "get_and_store_weather_data(city_df)"
      ]
    },
    {
      "cell_type": "markdown",
      "metadata": {
        "id": "0wIP9S5LvmnY"
      },
      "source": [
        "# Making our function work with our SQL cities data\n",
        "This section delves into a more advanced aspect of the project, which may be beyond the point many of you got to. However, it serves as an illustrative example of how to structure your work effectively. It demonstrates how we can compartmentalise various aspects of our data processing pipeline into distinct functions, enhancing code readability and facilitating debugging.\n",
        "> This part will only work locally, not on colab. You must also create your weather table in SQL first."
      ]
    },
    {
      "cell_type": "code",
      "execution_count": null,
      "metadata": {
        "id": "1G5L1rmNvHtB"
      },
      "outputs": [],
      "source": [
        "import pandas as pd\n",
        "import requests\n",
        "from pytz import timezone\n",
        "from datetime import datetime\n",
        "\n",
        "def retreiving_and_sending_data():\n",
        "  connection_string = connection()\n",
        "  cities_df = get_cities_data(connection_string)\n",
        "  weather_df = get_weather_data(cities_df)\n",
        "  send_weather_data(weather_df, connection_string)\n",
        "  return \"Data has been updated\"\n",
        "\n",
        "def connection():\n",
        "  schema = \"gans\"\n",
        "  host = \"127.0.0.1\"\n",
        "  user = \"root\"\n",
        "  password = \"YOUR_PASSWORD_HERE\"\n",
        "  port = 3306\n",
        "  return f'mysql+pymysql://{user}:{password}@{host}:{port}/{schema}'\n",
        "\n",
        "def get_cities_data(connection_string):\n",
        "  return pd.read_sql(\"cities\", con=connection_string)\n",
        "\n",
        "def get_weather_data(cities_df):\n",
        "  berlin_timezone = timezone('Europe/Berlin')\n",
        "  API_key = 'YOUR_API_HERE'\n",
        "  weather_items = []\n",
        "\n",
        "  for city in cities_df[\"city\"]:\n",
        "    url = (f\"http://api.openweathermap.org/data/2.5/forecast?q={city}&appid={API_key}&units=metric\")\n",
        "    response = requests.get(url)\n",
        "    json = response.json()\n",
        "\n",
        "    # As we are now using the data from our relational database\n",
        "    # the city should reflect the city_id and not the city name\n",
        "    city_id = cities_df.loc[cities_df[\"city\"] == city, \"city_id\"].values[0]\n",
        "\n",
        "    retrieval_time = datetime.now(berlin_timezone).strftime(\"%Y-%m-%d %H:%M:%S\")\n",
        "\n",
        "    for item in json[\"list\"]:\n",
        "        weather_item = {\n",
        "            \"city_id\": city_id,\n",
        "            \"forecast_time\": item.get(\"dt_txt\", None),\n",
        "            \"temperature\": item[\"main\"].get(\"temp\", None),\n",
        "            \"forecast\": item[\"weather\"][0].get(\"main\", None),\n",
        "            \"rain_in_last_3h\": item.get(\"rain\", {}).get(\"3h\", 0),\n",
        "            \"wind_speed\": item[\"wind\"].get(\"speed\", None),\n",
        "            \"data_retrieved_at\": retrieval_time\n",
        "        }\n",
        "\n",
        "        weather_items.append(weather_item)\n",
        "\n",
        "  weather_df = pd.DataFrame(weather_items)\n",
        "  weather_df[\"forecast_time\"] = pd.to_datetime(weather_df[\"forecast_time\"])\n",
        "  weather_df[\"data_retrieved_at\"] = pd.to_datetime(weather_df[\"data_retrieved_at\"])\n",
        "\n",
        "  return weather_df\n",
        "\n",
        "def send_weather_data(weather_df, connection_string):\n",
        "  weather_df.to_sql('weather',\n",
        "                    if_exists='append',\n",
        "                    con=connection_string,\n",
        "                    index=False)"
      ]
    },
    {
      "cell_type": "code",
      "execution_count": null,
      "metadata": {
        "colab": {
          "base_uri": "https://localhost:8080/",
          "height": 461
        },
        "id": "uVzrmih60GCq",
        "outputId": "34eaf65b-2744-4ed4-a4cf-a05899502b29"
      },
      "outputs": [
        {
          "ename": "ModuleNotFoundError",
          "errorDetails": {
            "actions": [
              {
                "action": "open_url",
                "actionText": "Open Examples",
                "url": "/notebooks/snippets/importing_libraries.ipynb"
              }
            ]
          },
          "evalue": "ignored",
          "output_type": "error",
          "traceback": [
            "\u001b[0;31m---------------------------------------------------------------------------\u001b[0m",
            "\u001b[0;31mModuleNotFoundError\u001b[0m                       Traceback (most recent call last)",
            "\u001b[0;32m<ipython-input-33-ed54ffb11db9>\u001b[0m in \u001b[0;36m<cell line: 1>\u001b[0;34m()\u001b[0m\n\u001b[0;32m----> 1\u001b[0;31m \u001b[0msending_and_retreiving_data\u001b[0m\u001b[0;34m(\u001b[0m\u001b[0;34m)\u001b[0m\u001b[0;34m\u001b[0m\u001b[0;34m\u001b[0m\u001b[0m\n\u001b[0m",
            "\u001b[0;32m<ipython-input-32-9d4fe272c76f>\u001b[0m in \u001b[0;36msending_and_retreiving_data\u001b[0;34m()\u001b[0m\n\u001b[1;32m      6\u001b[0m \u001b[0;32mdef\u001b[0m \u001b[0msending_and_retreiving_data\u001b[0m\u001b[0;34m(\u001b[0m\u001b[0;34m)\u001b[0m\u001b[0;34m:\u001b[0m\u001b[0;34m\u001b[0m\u001b[0;34m\u001b[0m\u001b[0m\n\u001b[1;32m      7\u001b[0m   \u001b[0mconnection_string\u001b[0m \u001b[0;34m=\u001b[0m \u001b[0mconnection\u001b[0m\u001b[0;34m(\u001b[0m\u001b[0;34m)\u001b[0m\u001b[0;34m\u001b[0m\u001b[0;34m\u001b[0m\u001b[0m\n\u001b[0;32m----> 8\u001b[0;31m   \u001b[0mcities_df\u001b[0m \u001b[0;34m=\u001b[0m \u001b[0mget_cities_data\u001b[0m\u001b[0;34m(\u001b[0m\u001b[0mconnection_string\u001b[0m\u001b[0;34m)\u001b[0m\u001b[0;34m\u001b[0m\u001b[0;34m\u001b[0m\u001b[0m\n\u001b[0m\u001b[1;32m      9\u001b[0m   \u001b[0mweather_df\u001b[0m \u001b[0;34m=\u001b[0m \u001b[0mget_weather_data\u001b[0m\u001b[0;34m(\u001b[0m\u001b[0mcities_df\u001b[0m\u001b[0;34m)\u001b[0m\u001b[0;34m\u001b[0m\u001b[0;34m\u001b[0m\u001b[0m\n\u001b[1;32m     10\u001b[0m   \u001b[0msend_weather_data\u001b[0m\u001b[0;34m(\u001b[0m\u001b[0mweather_df\u001b[0m\u001b[0;34m,\u001b[0m \u001b[0mconnection_string\u001b[0m\u001b[0;34m)\u001b[0m\u001b[0;34m\u001b[0m\u001b[0;34m\u001b[0m\u001b[0m\n",
            "\u001b[0;32m<ipython-input-32-9d4fe272c76f>\u001b[0m in \u001b[0;36mget_cities_data\u001b[0;34m(connection_string)\u001b[0m\n\u001b[1;32m     20\u001b[0m \u001b[0;34m\u001b[0m\u001b[0m\n\u001b[1;32m     21\u001b[0m \u001b[0;32mdef\u001b[0m \u001b[0mget_cities_data\u001b[0m\u001b[0;34m(\u001b[0m\u001b[0mconnection_string\u001b[0m\u001b[0;34m)\u001b[0m\u001b[0;34m:\u001b[0m\u001b[0;34m\u001b[0m\u001b[0;34m\u001b[0m\u001b[0m\n\u001b[0;32m---> 22\u001b[0;31m   \u001b[0;32mreturn\u001b[0m \u001b[0mpd\u001b[0m\u001b[0;34m.\u001b[0m\u001b[0mread_sql\u001b[0m\u001b[0;34m(\u001b[0m\u001b[0;34m\"cities\"\u001b[0m\u001b[0;34m,\u001b[0m \u001b[0mcon\u001b[0m\u001b[0;34m=\u001b[0m\u001b[0mconnection_string\u001b[0m\u001b[0;34m)\u001b[0m\u001b[0;34m\u001b[0m\u001b[0;34m\u001b[0m\u001b[0m\n\u001b[0m\u001b[1;32m     23\u001b[0m \u001b[0;34m\u001b[0m\u001b[0m\n\u001b[1;32m     24\u001b[0m \u001b[0;32mdef\u001b[0m \u001b[0mget_weather_data\u001b[0m\u001b[0;34m(\u001b[0m\u001b[0mcities_df\u001b[0m\u001b[0;34m)\u001b[0m\u001b[0;34m:\u001b[0m\u001b[0;34m\u001b[0m\u001b[0;34m\u001b[0m\u001b[0m\n",
            "\u001b[0;32m/usr/local/lib/python3.10/dist-packages/pandas/io/sql.py\u001b[0m in \u001b[0;36mread_sql\u001b[0;34m(sql, con, index_col, coerce_float, params, parse_dates, columns, chunksize)\u001b[0m\n\u001b[1;32m    559\u001b[0m     \u001b[0;36m1\u001b[0m           \u001b[0;36m1\u001b[0m  \u001b[0;36m2010\u001b[0m\u001b[0;34m-\u001b[0m\u001b[0;36m11\u001b[0m\u001b[0;34m-\u001b[0m\u001b[0;36m12\u001b[0m\u001b[0;34m\u001b[0m\u001b[0;34m\u001b[0m\u001b[0m\n\u001b[1;32m    560\u001b[0m     \"\"\"\n\u001b[0;32m--> 561\u001b[0;31m     \u001b[0mpandas_sql\u001b[0m \u001b[0;34m=\u001b[0m \u001b[0mpandasSQL_builder\u001b[0m\u001b[0;34m(\u001b[0m\u001b[0mcon\u001b[0m\u001b[0;34m)\u001b[0m\u001b[0;34m\u001b[0m\u001b[0;34m\u001b[0m\u001b[0m\n\u001b[0m\u001b[1;32m    562\u001b[0m \u001b[0;34m\u001b[0m\u001b[0m\n\u001b[1;32m    563\u001b[0m     \u001b[0;32mif\u001b[0m \u001b[0misinstance\u001b[0m\u001b[0;34m(\u001b[0m\u001b[0mpandas_sql\u001b[0m\u001b[0;34m,\u001b[0m \u001b[0mSQLiteDatabase\u001b[0m\u001b[0;34m)\u001b[0m\u001b[0;34m:\u001b[0m\u001b[0;34m\u001b[0m\u001b[0;34m\u001b[0m\u001b[0m\n",
            "\u001b[0;32m/usr/local/lib/python3.10/dist-packages/pandas/io/sql.py\u001b[0m in \u001b[0;36mpandasSQL_builder\u001b[0;34m(con, schema)\u001b[0m\n\u001b[1;32m    752\u001b[0m             \u001b[0;32mraise\u001b[0m \u001b[0mImportError\u001b[0m\u001b[0;34m(\u001b[0m\u001b[0;34m\"Using URI string without sqlalchemy installed.\"\u001b[0m\u001b[0;34m)\u001b[0m\u001b[0;34m\u001b[0m\u001b[0;34m\u001b[0m\u001b[0m\n\u001b[1;32m    753\u001b[0m         \u001b[0;32melse\u001b[0m\u001b[0;34m:\u001b[0m\u001b[0;34m\u001b[0m\u001b[0;34m\u001b[0m\u001b[0m\n\u001b[0;32m--> 754\u001b[0;31m             \u001b[0mcon\u001b[0m \u001b[0;34m=\u001b[0m \u001b[0msqlalchemy\u001b[0m\u001b[0;34m.\u001b[0m\u001b[0mcreate_engine\u001b[0m\u001b[0;34m(\u001b[0m\u001b[0mcon\u001b[0m\u001b[0;34m)\u001b[0m\u001b[0;34m\u001b[0m\u001b[0;34m\u001b[0m\u001b[0m\n\u001b[0m\u001b[1;32m    755\u001b[0m \u001b[0;34m\u001b[0m\u001b[0m\n\u001b[1;32m    756\u001b[0m     \u001b[0;32mif\u001b[0m \u001b[0msqlalchemy\u001b[0m \u001b[0;32mis\u001b[0m \u001b[0;32mnot\u001b[0m \u001b[0;32mNone\u001b[0m \u001b[0;32mand\u001b[0m \u001b[0misinstance\u001b[0m\u001b[0;34m(\u001b[0m\u001b[0mcon\u001b[0m\u001b[0;34m,\u001b[0m \u001b[0msqlalchemy\u001b[0m\u001b[0;34m.\u001b[0m\u001b[0mengine\u001b[0m\u001b[0;34m.\u001b[0m\u001b[0mConnectable\u001b[0m\u001b[0;34m)\u001b[0m\u001b[0;34m:\u001b[0m\u001b[0;34m\u001b[0m\u001b[0;34m\u001b[0m\u001b[0m\n",
            "\u001b[0;32m/usr/local/lib/python3.10/dist-packages/sqlalchemy/engine/create.py\u001b[0m in \u001b[0;36mcreate_engine\u001b[0;34m(url, **kwargs)\u001b[0m\n",
            "\u001b[0;32m/usr/local/lib/python3.10/dist-packages/sqlalchemy/util/deprecations.py\u001b[0m in \u001b[0;36mwarned\u001b[0;34m(fn, *args, **kwargs)\u001b[0m\n\u001b[1;32m    279\u001b[0m                         \u001b[0mstacklevel\u001b[0m\u001b[0;34m=\u001b[0m\u001b[0;36m3\u001b[0m\u001b[0;34m,\u001b[0m\u001b[0;34m\u001b[0m\u001b[0;34m\u001b[0m\u001b[0m\n\u001b[1;32m    280\u001b[0m                     )\n\u001b[0;32m--> 281\u001b[0;31m             \u001b[0;32mreturn\u001b[0m \u001b[0mfn\u001b[0m\u001b[0;34m(\u001b[0m\u001b[0;34m*\u001b[0m\u001b[0margs\u001b[0m\u001b[0;34m,\u001b[0m \u001b[0;34m**\u001b[0m\u001b[0mkwargs\u001b[0m\u001b[0;34m)\u001b[0m  \u001b[0;31m# type: ignore[no-any-return]\u001b[0m\u001b[0;34m\u001b[0m\u001b[0;34m\u001b[0m\u001b[0m\n\u001b[0m\u001b[1;32m    282\u001b[0m \u001b[0;34m\u001b[0m\u001b[0m\n\u001b[1;32m    283\u001b[0m         \u001b[0mdoc\u001b[0m \u001b[0;34m=\u001b[0m \u001b[0mfn\u001b[0m\u001b[0;34m.\u001b[0m\u001b[0m__doc__\u001b[0m \u001b[0;32mis\u001b[0m \u001b[0;32mnot\u001b[0m \u001b[0;32mNone\u001b[0m \u001b[0;32mand\u001b[0m \u001b[0mfn\u001b[0m\u001b[0;34m.\u001b[0m\u001b[0m__doc__\u001b[0m \u001b[0;32mor\u001b[0m \u001b[0;34m\"\"\u001b[0m\u001b[0;34m\u001b[0m\u001b[0;34m\u001b[0m\u001b[0m\n",
            "\u001b[0;32m/usr/local/lib/python3.10/dist-packages/sqlalchemy/engine/create.py\u001b[0m in \u001b[0;36mcreate_engine\u001b[0;34m(url, **kwargs)\u001b[0m\n\u001b[1;32m    599\u001b[0m             \u001b[0;32mif\u001b[0m \u001b[0mk\u001b[0m \u001b[0;32min\u001b[0m \u001b[0mkwargs\u001b[0m\u001b[0;34m:\u001b[0m\u001b[0;34m\u001b[0m\u001b[0;34m\u001b[0m\u001b[0m\n\u001b[1;32m    600\u001b[0m                 \u001b[0mdbapi_args\u001b[0m\u001b[0;34m[\u001b[0m\u001b[0mk\u001b[0m\u001b[0;34m]\u001b[0m \u001b[0;34m=\u001b[0m \u001b[0mpop_kwarg\u001b[0m\u001b[0;34m(\u001b[0m\u001b[0mk\u001b[0m\u001b[0;34m)\u001b[0m\u001b[0;34m\u001b[0m\u001b[0;34m\u001b[0m\u001b[0m\n\u001b[0;32m--> 601\u001b[0;31m         \u001b[0mdbapi\u001b[0m \u001b[0;34m=\u001b[0m \u001b[0mdbapi_meth\u001b[0m\u001b[0;34m(\u001b[0m\u001b[0;34m**\u001b[0m\u001b[0mdbapi_args\u001b[0m\u001b[0;34m)\u001b[0m\u001b[0;34m\u001b[0m\u001b[0;34m\u001b[0m\u001b[0m\n\u001b[0m\u001b[1;32m    602\u001b[0m \u001b[0;34m\u001b[0m\u001b[0m\n\u001b[1;32m    603\u001b[0m     \u001b[0mdialect_args\u001b[0m\u001b[0;34m[\u001b[0m\u001b[0;34m\"dbapi\"\u001b[0m\u001b[0;34m]\u001b[0m \u001b[0;34m=\u001b[0m \u001b[0mdbapi\u001b[0m\u001b[0;34m\u001b[0m\u001b[0;34m\u001b[0m\u001b[0m\n",
            "\u001b[0;32m/usr/local/lib/python3.10/dist-packages/sqlalchemy/dialects/mysql/pymysql.py\u001b[0m in \u001b[0;36mimport_dbapi\u001b[0;34m(cls)\u001b[0m\n\u001b[1;32m     73\u001b[0m     \u001b[0;34m@\u001b[0m\u001b[0mclassmethod\u001b[0m\u001b[0;34m\u001b[0m\u001b[0;34m\u001b[0m\u001b[0m\n\u001b[1;32m     74\u001b[0m     \u001b[0;32mdef\u001b[0m \u001b[0mimport_dbapi\u001b[0m\u001b[0;34m(\u001b[0m\u001b[0mcls\u001b[0m\u001b[0;34m)\u001b[0m\u001b[0;34m:\u001b[0m\u001b[0;34m\u001b[0m\u001b[0;34m\u001b[0m\u001b[0m\n\u001b[0;32m---> 75\u001b[0;31m         \u001b[0;32mreturn\u001b[0m \u001b[0m__import__\u001b[0m\u001b[0;34m(\u001b[0m\u001b[0;34m\"pymysql\"\u001b[0m\u001b[0;34m)\u001b[0m\u001b[0;34m\u001b[0m\u001b[0;34m\u001b[0m\u001b[0m\n\u001b[0m\u001b[1;32m     76\u001b[0m \u001b[0;34m\u001b[0m\u001b[0m\n\u001b[1;32m     77\u001b[0m     \u001b[0;34m@\u001b[0m\u001b[0mlanghelpers\u001b[0m\u001b[0;34m.\u001b[0m\u001b[0mmemoized_property\u001b[0m\u001b[0;34m\u001b[0m\u001b[0;34m\u001b[0m\u001b[0m\n",
            "\u001b[0;31mModuleNotFoundError\u001b[0m: No module named 'pymysql'",
            "",
            "\u001b[0;31m---------------------------------------------------------------------------\u001b[0;32m\nNOTE: If your import is failing due to a missing package, you can\nmanually install dependencies using either !pip or !apt.\n\nTo view examples of installing some common dependencies, click the\n\"Open Examples\" button below.\n\u001b[0;31m---------------------------------------------------------------------------\u001b[0m\n"
          ]
        }
      ],
      "source": [
        "retreiving_and_sending_data()"
      ]
    }
  ],
  "metadata": {
    "colab": {
      "provenance": []
    },
    "kernelspec": {
      "display_name": "Python 3 (ipykernel)",
      "language": "python",
      "name": "python3"
    },
    "language_info": {
      "codemirror_mode": {
        "name": "ipython",
        "version": 3
      },
      "file_extension": ".py",
      "mimetype": "text/x-python",
      "name": "python",
      "nbconvert_exporter": "python",
      "pygments_lexer": "ipython3",
      "version": "3.10.12"
    }
  },
  "nbformat": 4,
  "nbformat_minor": 0
}