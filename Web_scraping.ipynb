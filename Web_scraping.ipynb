{
  "cells": [
    {
      "cell_type": "code",
      "execution_count": null,
      "id": "f85f388f-f97a-46f1-8eab-cb7c8daa71d7",
      "metadata": {
        "id": "f85f388f-f97a-46f1-8eab-cb7c8daa71d7"
      },
      "outputs": [],
      "source": [
        "import pandas as pd"
      ]
    },
    {
      "cell_type": "code",
      "execution_count": null,
      "id": "1ee26792-699b-4bf1-878e-ad576e014b5c",
      "metadata": {
        "id": "1ee26792-699b-4bf1-878e-ad576e014b5c"
      },
      "outputs": [],
      "source": [
        "import pandas as pd\n",
        "import requests\n",
        "from bs4 import BeautifulSoup"
      ]
    },
    {
      "cell_type": "markdown",
      "id": "6e862521-ad62-4138-8c4f-2c325c3ed4cc",
      "metadata": {
        "id": "6e862521-ad62-4138-8c4f-2c325c3ed4cc"
      },
      "source": [
        "## Step 1 - get the data"
      ]
    },
    {
      "cell_type": "code",
      "execution_count": null,
      "id": "dcbc5773-0c1a-45f1-a60b-105fe5ed995c",
      "metadata": {
        "id": "dcbc5773-0c1a-45f1-a60b-105fe5ed995c"
      },
      "outputs": [],
      "source": [
        "url = 'https://en.wikipedia.org/wiki/Berlin'"
      ]
    },
    {
      "cell_type": "code",
      "execution_count": null,
      "id": "563d4c27-738d-45d9-b09c-cd2e2f9a60ca",
      "metadata": {
        "id": "563d4c27-738d-45d9-b09c-cd2e2f9a60ca"
      },
      "outputs": [],
      "source": [
        "city_df = pd.DataFrame(columns = [\"city\",\"country\",\"population\",\"latitude\",\"longitude\"])#.set_index(\"city\")"
      ]
    },
    {
      "cell_type": "code",
      "execution_count": null,
      "id": "99fe398e-ff1a-453b-8c80-016f3d7adc4f",
      "metadata": {
        "id": "99fe398e-ff1a-453b-8c80-016f3d7adc4f"
      },
      "outputs": [],
      "source": [
        "def citygrab2(city):\n",
        "    url = \"https://en.wikipedia.org/wiki/\"+city\n",
        "    response = requests.get(url)\n",
        "    soup_city = BeautifulSoup(response.content, 'html.parser')\n",
        "    for header in soup_city.find_all(class_=\"infobox-header\"):\n",
        "        if header.find(string=re.compile(\"population\", re.IGNORECASE)):\n",
        "            popu = header.find_next(class_=\"infobox-data\").text\n",
        "\n",
        "#soup_city.find_all(class_=\"mergedtoprow\")\n",
        "    for merger in soup_city.find_all(class_=\"mergedtoprow\"):\n",
        "        if merger.find(string=re.compile(\"country\", re.IGNORECASE)):\n",
        "            country = merger.find_next(class_=\"infobox-data\").text\n",
        "\n",
        "    for merger in soup_city.find_all(class_=\"mergedrow\"):\n",
        "        if merger.find(string=re.compile(\"country\", re.IGNORECASE)):\n",
        "            country = merger.find_next(class_=\"infobox-data\").text\n",
        "    #soup_city.find_all(class_=\"infobox-full-data\")\n",
        "\n",
        "    for coords in soup_city.find_all(class_=\"infobox-full-data\"):\n",
        "        if coords.find(string=re.compile(\"Coordinates\", re.IGNORECASE)):\n",
        "            lati = coords.find_next(class_=\"latitude\").text\n",
        "            longi = coords.find_next(class_=\"longitude\").text\n",
        "\n",
        "    city_df.loc[len(city_df)]=({\"city\":str.capitalize(city), \"country\":country,\"population\":popu,\"latitude\":lati,\"longitude\":longi})\n",
        "    return city_df"
      ]
    },
    {
      "cell_type": "code",
      "execution_count": null,
      "id": "3e66b313-6fcb-440f-b375-455354063944",
      "metadata": {
        "id": "3e66b313-6fcb-440f-b375-455354063944"
      },
      "outputs": [],
      "source": [
        "citygrab2(\"Berlin\")\n",
        "city = citygrab2(\"London\")"
      ]
    },
    {
      "cell_type": "code",
      "execution_count": null,
      "id": "ab15e074-ad08-49f0-90d8-ebb8f01a0f66",
      "metadata": {
        "id": "ab15e074-ad08-49f0-90d8-ebb8f01a0f66",
        "outputId": "7f557a2e-e0b3-4917-fb06-af8326cbfbc2"
      },
      "outputs": [
        {
          "data": {
            "text/html": [
              "<div>\n",
              "<style scoped>\n",
              "    .dataframe tbody tr th:only-of-type {\n",
              "        vertical-align: middle;\n",
              "    }\n",
              "\n",
              "    .dataframe tbody tr th {\n",
              "        vertical-align: top;\n",
              "    }\n",
              "\n",
              "    .dataframe thead th {\n",
              "        text-align: right;\n",
              "    }\n",
              "</style>\n",
              "<table border=\"1\" class=\"dataframe\">\n",
              "  <thead>\n",
              "    <tr style=\"text-align: right;\">\n",
              "      <th></th>\n",
              "      <th>city</th>\n",
              "      <th>country</th>\n",
              "      <th>population</th>\n",
              "      <th>latitude</th>\n",
              "      <th>longitude</th>\n",
              "    </tr>\n",
              "  </thead>\n",
              "  <tbody>\n",
              "    <tr>\n",
              "      <th>0</th>\n",
              "      <td>Berlin</td>\n",
              "      <td>Germany</td>\n",
              "      <td>3,755,251</td>\n",
              "      <td>52°31′12″N</td>\n",
              "      <td>13°24′18″E</td>\n",
              "    </tr>\n",
              "    <tr>\n",
              "      <th>1</th>\n",
              "      <td>London</td>\n",
              "      <td>England</td>\n",
              "      <td>8,799,800[1]</td>\n",
              "      <td>51°30′26″N</td>\n",
              "      <td>0°7′39″W</td>\n",
              "    </tr>\n",
              "  </tbody>\n",
              "</table>\n",
              "</div>"
            ],
            "text/plain": [
              "     city  country    population    latitude   longitude\n",
              "0  Berlin  Germany     3,755,251  52°31′12″N  13°24′18″E\n",
              "1  London  England  8,799,800[1]  51°30′26″N    0°7′39″W"
            ]
          },
          "execution_count": 82,
          "metadata": {},
          "output_type": "execute_result"
        }
      ],
      "source": [
        "city"
      ]
    },
    {
      "cell_type": "code",
      "execution_count": null,
      "id": "3e2ea78b-e015-4095-a0cc-f72f1eb824ce",
      "metadata": {
        "id": "3e2ea78b-e015-4095-a0cc-f72f1eb824ce",
        "outputId": "3422a87a-8810-4ada-b122-3a933410b87b"
      },
      "outputs": [
        {
          "data": {
            "text/html": [
              "<div>\n",
              "<style scoped>\n",
              "    .dataframe tbody tr th:only-of-type {\n",
              "        vertical-align: middle;\n",
              "    }\n",
              "\n",
              "    .dataframe tbody tr th {\n",
              "        vertical-align: top;\n",
              "    }\n",
              "\n",
              "    .dataframe thead th {\n",
              "        text-align: right;\n",
              "    }\n",
              "</style>\n",
              "<table border=\"1\" class=\"dataframe\">\n",
              "  <thead>\n",
              "    <tr style=\"text-align: right;\">\n",
              "      <th></th>\n",
              "      <th>city</th>\n",
              "      <th>country</th>\n",
              "      <th>population</th>\n",
              "      <th>latitude</th>\n",
              "      <th>longitude</th>\n",
              "    </tr>\n",
              "  </thead>\n",
              "  <tbody>\n",
              "    <tr>\n",
              "      <th>0</th>\n",
              "      <td>Berlin</td>\n",
              "      <td>Germany</td>\n",
              "      <td>3755251</td>\n",
              "      <td>52°31′12″N</td>\n",
              "      <td>13°24′18″E</td>\n",
              "    </tr>\n",
              "    <tr>\n",
              "      <th>1</th>\n",
              "      <td>London</td>\n",
              "      <td>England</td>\n",
              "      <td>8799800</td>\n",
              "      <td>51°30′26″N</td>\n",
              "      <td>0°7′39″W</td>\n",
              "    </tr>\n",
              "  </tbody>\n",
              "</table>\n",
              "</div>"
            ],
            "text/plain": [
              "     city  country  population    latitude   longitude\n",
              "0  Berlin  Germany     3755251  52°31′12″N  13°24′18″E\n",
              "1  London  England     8799800  51°30′26″N    0°7′39″W"
            ]
          },
          "execution_count": 90,
          "metadata": {},
          "output_type": "execute_result"
        }
      ],
      "source": [
        "city['population'] = city['population'].str.replace('[1]','')\n",
        "city['population'] = city['population'].str.replace(',','')\n",
        "city[\"population\"] = pd.to_numeric(city[\"population\"])\n",
        "city"
      ]
    },
    {
      "cell_type": "markdown",
      "id": "c6b58ed8-b0a7-4314-aa0f-6ebd72449e6a",
      "metadata": {
        "id": "c6b58ed8-b0a7-4314-aa0f-6ebd72449e6a"
      },
      "source": [
        "### Step 2 - create a conection string\n"
      ]
    },
    {
      "cell_type": "code",
      "execution_count": null,
      "id": "9ac0de39-cd35-4912-80c5-719ab46c051b",
      "metadata": {
        "id": "9ac0de39-cd35-4912-80c5-719ab46c051b"
      },
      "outputs": [],
      "source": [
        "import my_stuff"
      ]
    },
    {
      "cell_type": "code",
      "execution_count": null,
      "id": "760d4f78-c6ff-4f1c-a7b8-25163b6ea36e",
      "metadata": {
        "id": "760d4f78-c6ff-4f1c-a7b8-25163b6ea36e"
      },
      "outputs": [],
      "source": [
        "schema = \"gans\"\n",
        "host = \"127.0.0.1\"\n",
        "user = \"root\"\n",
        "password = my_stuff.my_sql_password\n",
        "port = 3306\n",
        "\n",
        "connection_string = f'mysql+pymysql://{user}:{password}@{host}:{port}/{schema}'"
      ]
    },
    {
      "cell_type": "markdown",
      "id": "4045f3d3-47f8-4200-89e5-16866972c18a",
      "metadata": {
        "id": "4045f3d3-47f8-4200-89e5-16866972c18a"
      },
      "source": [
        "### Step 3 - Send data"
      ]
    },
    {
      "cell_type": "code",
      "execution_count": null,
      "id": "ad679c3e-fa82-4ab2-af4a-11cd24a10174",
      "metadata": {
        "id": "ad679c3e-fa82-4ab2-af4a-11cd24a10174",
        "outputId": "4b55e27e-ad34-4130-e094-5812cea15845"
      },
      "outputs": [
        {
          "data": {
            "text/plain": [
              "2"
            ]
          },
          "execution_count": 91,
          "metadata": {},
          "output_type": "execute_result"
        }
      ],
      "source": [
        "# city.to_sql(name='city',if_exists='append',con=connection_string,index=False)"
      ]
    },
    {
      "cell_type": "markdown",
      "id": "40fabf7a-42e4-4d28-bf60-a4ff8afe4fdb",
      "metadata": {
        "id": "40fabf7a-42e4-4d28-bf60-a4ff8afe4fdb"
      },
      "source": [
        "## AIRPORTS"
      ]
    },
    {
      "cell_type": "code",
      "execution_count": null,
      "id": "26a6dd47-b708-4eaf-9a37-88b2f57e8a98",
      "metadata": {
        "id": "26a6dd47-b708-4eaf-9a37-88b2f57e8a98",
        "outputId": "2226fd5c-e0fe-4eb7-d4f4-7cc3c4d2e821"
      },
      "outputs": [
        {
          "data": {
            "text/html": [
              "<div>\n",
              "<style scoped>\n",
              "    .dataframe tbody tr th:only-of-type {\n",
              "        vertical-align: middle;\n",
              "    }\n",
              "\n",
              "    .dataframe tbody tr th {\n",
              "        vertical-align: top;\n",
              "    }\n",
              "\n",
              "    .dataframe thead th {\n",
              "        text-align: right;\n",
              "    }\n",
              "</style>\n",
              "<table border=\"1\" class=\"dataframe\">\n",
              "  <thead>\n",
              "    <tr style=\"text-align: right;\">\n",
              "      <th></th>\n",
              "      <th>city_id</th>\n",
              "      <th>city</th>\n",
              "      <th>country</th>\n",
              "      <th>population</th>\n",
              "      <th>latitude</th>\n",
              "      <th>longitude</th>\n",
              "    </tr>\n",
              "  </thead>\n",
              "  <tbody>\n",
              "    <tr>\n",
              "      <th>0</th>\n",
              "      <td>1</td>\n",
              "      <td>Berlin</td>\n",
              "      <td>Germany</td>\n",
              "      <td>3755251</td>\n",
              "      <td>52°31′12″N</td>\n",
              "      <td>13°24′18″E</td>\n",
              "    </tr>\n",
              "    <tr>\n",
              "      <th>1</th>\n",
              "      <td>2</td>\n",
              "      <td>London</td>\n",
              "      <td>England</td>\n",
              "      <td>8799800</td>\n",
              "      <td>51°30′26″N</td>\n",
              "      <td>0°7′39″W</td>\n",
              "    </tr>\n",
              "  </tbody>\n",
              "</table>\n",
              "</div>"
            ],
            "text/plain": [
              "   city_id    city  country  population    latitude   longitude\n",
              "0        1  Berlin  Germany     3755251  52°31′12″N  13°24′18″E\n",
              "1        2  London  England     8799800  51°30′26″N    0°7′39″W"
            ]
          },
          "execution_count": 92,
          "metadata": {},
          "output_type": "execute_result"
        }
      ],
      "source": [
        "cities_df = pd.read_sql('city',con=connection_string)\n",
        "cities_df"
      ]
    },
    {
      "cell_type": "code",
      "execution_count": null,
      "id": "83cb6818-79fb-4d71-86a1-09ae1dcb9720",
      "metadata": {
        "id": "83cb6818-79fb-4d71-86a1-09ae1dcb9720"
      },
      "outputs": [],
      "source": [
        "airports_dict = {'ICAO':[],'city_id':[]}\n",
        "\n",
        "icao_dict = { 'Berlin':'EDDB',\n",
        "             'London':'EGLL' }"
      ]
    },
    {
      "cell_type": "code",
      "execution_count": null,
      "id": "6e75c751-603e-42d2-a7df-fc0cbfa7b1ef",
      "metadata": {
        "id": "6e75c751-603e-42d2-a7df-fc0cbfa7b1ef"
      },
      "outputs": [],
      "source": [
        "for i, row in cities_df.iterrows():\n",
        "    airports_dict['city_id'].append(row['city_id'])\n",
        "    airports_dict['ICAO'].append(icao_dict[row['city']])"
      ]
    },
    {
      "cell_type": "code",
      "execution_count": null,
      "id": "9d1cd424-b22c-48a2-b48e-767a8149a6ab",
      "metadata": {
        "id": "9d1cd424-b22c-48a2-b48e-767a8149a6ab",
        "outputId": "a733dc1c-fdde-4228-f103-e4dffaccef43"
      },
      "outputs": [
        {
          "data": {
            "text/plain": [
              "{'ICAO': ['EDDB', 'EGLL'], 'city_id': [1, 2]}"
            ]
          },
          "execution_count": 101,
          "metadata": {},
          "output_type": "execute_result"
        }
      ],
      "source": [
        "airports_dict"
      ]
    },
    {
      "cell_type": "code",
      "execution_count": null,
      "id": "5de6d5c5-5cfc-45f6-befa-342f39c6c1d5",
      "metadata": {
        "id": "5de6d5c5-5cfc-45f6-befa-342f39c6c1d5"
      },
      "outputs": [],
      "source": [
        "airports_df = pd.DataFrame(airports_dict)"
      ]
    },
    {
      "cell_type": "code",
      "execution_count": null,
      "id": "c8c38eb3-920a-43ac-a51a-f3ce27acb9c5",
      "metadata": {
        "id": "c8c38eb3-920a-43ac-a51a-f3ce27acb9c5",
        "outputId": "e417f17c-0393-43e9-f6ee-aec3270a031d"
      },
      "outputs": [
        {
          "data": {
            "text/html": [
              "<div>\n",
              "<style scoped>\n",
              "    .dataframe tbody tr th:only-of-type {\n",
              "        vertical-align: middle;\n",
              "    }\n",
              "\n",
              "    .dataframe tbody tr th {\n",
              "        vertical-align: top;\n",
              "    }\n",
              "\n",
              "    .dataframe thead th {\n",
              "        text-align: right;\n",
              "    }\n",
              "</style>\n",
              "<table border=\"1\" class=\"dataframe\">\n",
              "  <thead>\n",
              "    <tr style=\"text-align: right;\">\n",
              "      <th></th>\n",
              "      <th>ICAO</th>\n",
              "      <th>city_id</th>\n",
              "    </tr>\n",
              "  </thead>\n",
              "  <tbody>\n",
              "    <tr>\n",
              "      <th>0</th>\n",
              "      <td>EDDB</td>\n",
              "      <td>1</td>\n",
              "    </tr>\n",
              "    <tr>\n",
              "      <th>1</th>\n",
              "      <td>EGLL</td>\n",
              "      <td>2</td>\n",
              "    </tr>\n",
              "  </tbody>\n",
              "</table>\n",
              "</div>"
            ],
            "text/plain": [
              "   ICAO  city_id\n",
              "0  EDDB        1\n",
              "1  EGLL        2"
            ]
          },
          "execution_count": 104,
          "metadata": {},
          "output_type": "execute_result"
        }
      ],
      "source": [
        "airports_df"
      ]
    },
    {
      "cell_type": "code",
      "execution_count": null,
      "id": "ca661397-8213-4cf8-b461-e54cc48cfd3d",
      "metadata": {
        "id": "ca661397-8213-4cf8-b461-e54cc48cfd3d",
        "outputId": "6b4e6743-703f-4b65-ece0-2313c5561533"
      },
      "outputs": [
        {
          "data": {
            "text/plain": [
              "2"
            ]
          },
          "execution_count": 105,
          "metadata": {},
          "output_type": "execute_result"
        }
      ],
      "source": [
        "# airports_df.to_sql('airport',if_exists='append',index=False, con=connection_string)"
      ]
    }
  ],
  "metadata": {
    "kernelspec": {
      "display_name": "Python 3 (ipykernel)",
      "language": "python",
      "name": "python3"
    },
    "language_info": {
      "codemirror_mode": {
        "name": "ipython",
        "version": 3
      },
      "file_extension": ".py",
      "mimetype": "text/x-python",
      "name": "python",
      "nbconvert_exporter": "python",
      "pygments_lexer": "ipython3",
      "version": "3.10.12"
    },
    "colab": {
      "provenance": []
    }
  },
  "nbformat": 4,
  "nbformat_minor": 5
}