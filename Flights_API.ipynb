{
  "cells": [
    {
      "cell_type": "code",
      "execution_count": null,
      "id": "11cb0c66-7951-42ed-8e5e-ee5cd34411cc",
      "metadata": {
        "id": "11cb0c66-7951-42ed-8e5e-ee5cd34411cc"
      },
      "outputs": [],
      "source": [
        "import pandas as pd\n",
        "import requests\n",
        "import sqlalchemy\n",
        "import my_stuff\n",
        "from datetime import timedelta, datetime"
      ]
    },
    {
      "cell_type": "code",
      "execution_count": null,
      "id": "dec61582-c380-4a83-8fe9-2acca44ff74e",
      "metadata": {
        "id": "dec61582-c380-4a83-8fe9-2acca44ff74e"
      },
      "outputs": [],
      "source": [
        "def get_connection_string():\n",
        "    schema = \"gans\"\n",
        "    host = \"127.0.0.1\"\n",
        "    user = \"root\"\n",
        "    password = my_stuff.my_sql_password\n",
        "    port = 3306\n",
        "\n",
        "    connection_string = f'mysql+pymysql://{user}:{password}@{host}:{port}/{schema}'\n",
        "    return connection_string"
      ]
    },
    {
      "cell_type": "code",
      "execution_count": null,
      "id": "ba6b5217-90fe-4c73-b22f-d6c22a932617",
      "metadata": {
        "id": "ba6b5217-90fe-4c73-b22f-d6c22a932617"
      },
      "outputs": [],
      "source": [
        "def get_airports():\n",
        "    connection_string = get_connection_string()\n",
        "    airports_df = pd.read_sql('airport',con=connection_string)\n",
        "    return airports_df"
      ]
    },
    {
      "cell_type": "code",
      "execution_count": null,
      "id": "22b8e0c8-8cec-4bdb-9a55-e3211fb7a1f0",
      "metadata": {
        "id": "22b8e0c8-8cec-4bdb-9a55-e3211fb7a1f0"
      },
      "outputs": [],
      "source": [
        "def get_and_store_flights(airports_df):\n",
        "\n",
        "\n",
        "    connection_string = get_connection_string()\n",
        "\n",
        "    now = datetime.now()\n",
        "    tomorrow = now + timedelta(days=1)\n",
        "    tomorrow = tomorrow.strftime('%Y-%m-%d')\n",
        "\n",
        "    times_lists = [{'from':'00:00','to':'11:59'},{'from':'12:00','to':'23:59'}]\n",
        "\n",
        "    flights_dict = {\n",
        "            'ICAO':[],\n",
        "            'from_city':[],\n",
        "            'arrival_time':[],\n",
        "            'airline':[],\n",
        "            'terminal':[],\n",
        "            'status_of_flight':[]}\n",
        "    for i, row in airports_df.iterrows():\n",
        "        for time in times_lists:\n",
        "\n",
        "            url = f\"https://aerodatabox.p.rapidapi.com/flights/airports/icao/{row['ICAO']}/{tomorrow}T{time['from']}/{tomorrow}T{time['to']}\"\n",
        "            querystring = {\"withLeg\":\"true\",\"withCancelled\":\"true\",\"withCodeshared\":\"true\",\"withCargo\":\"true\",\"withPrivate\":\"true\",\"withLocation\":\"false\"}\n",
        "            headers = {\n",
        "                \"X-RapidAPI-Key\": \"14a44098c8mshe4536a007985112p1e3b4bjsn8fd805eb6bd4\",\n",
        "                \"X-RapidAPI-Host\": \"aerodatabox.p.rapidapi.com\"\n",
        "            }\n",
        "            response = requests.get(url, headers=headers, params=querystring)\n",
        "\n",
        "            my_json = response.json()\n",
        "\n",
        "            for flight in my_json['arrivals']:\n",
        "                flights_dict['ICAO'].append(row['ICAO'])\n",
        "                flights_dict['arrival_time'].append(flight['arrival'].get('scheduledTime',{}).get('local',None))\n",
        "                flights_dict['from_city'].append(flight['departure'].get('airport',{}).get('name','unknown'))\n",
        "                flights_dict['airline'].append(flight['airline'].get('name',None))\n",
        "                flights_dict['terminal'].append(flight['arrival'].get('terminal','unknown'))\n",
        "                flights_dict['status_of_flight'].append(flight.get('status',None))\n",
        "\n",
        "    flight_df = pd.DataFrame(flights_dict)\n",
        "    flight_df['arrival_time'] = flight_df['arrival_time'].str[:-6]\n",
        "    flight_df.to_sql('flight',con=connection_string,index=False,if_exists='append')"
      ]
    },
    {
      "cell_type": "code",
      "execution_count": null,
      "id": "4071b941-1714-45e8-842f-237e30f80b31",
      "metadata": {
        "id": "4071b941-1714-45e8-842f-237e30f80b31"
      },
      "outputs": [],
      "source": [
        "get_and_store_flights(get_airports())"
      ]
    }
  ],
  "metadata": {
    "kernelspec": {
      "display_name": "Python 3 (ipykernel)",
      "language": "python",
      "name": "python3"
    },
    "language_info": {
      "codemirror_mode": {
        "name": "ipython",
        "version": 3
      },
      "file_extension": ".py",
      "mimetype": "text/x-python",
      "name": "python",
      "nbconvert_exporter": "python",
      "pygments_lexer": "ipython3",
      "version": "3.10.12"
    },
    "colab": {
      "provenance": []
    }
  },
  "nbformat": 4,
  "nbformat_minor": 5
}